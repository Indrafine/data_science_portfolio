{
  "nbformat": 4,
  "nbformat_minor": 0,
  "metadata": {
    "colab": {
      "provenance": []
    },
    "kernelspec": {
      "name": "python3",
      "display_name": "Python 3"
    },
    "language_info": {
      "name": "python"
    },
    "gpuClass": "standard"
  },
  "cells": [
    {
      "cell_type": "code",
      "execution_count": null,
      "metadata": {
        "id": "quRYqEGBLoXI"
      },
      "outputs": [],
      "source": [
        "import tensorflow as tf### models\n",
        "import pandas as pd ### reading and processing data\n",
        "import seaborn as sns ### visualization\n",
        "import numpy as np### math computations\n",
        "import matplotlib.pyplot as plt### plotting bar chart\n",
        "from tensorflow.keras.layers import Normalization, Dense, InputLayer\n",
        "from tensorflow.keras.losses import MeanSquaredError, Huber, MeanAbsoluteError\n",
        "from tensorflow.keras.metrics import RootMeanSquaredError\n",
        "from tensorflow.keras.callbacks import EarlyStopping, ModelCheckpoint, ReduceLROnPlateau\n",
        "from tensorflow.keras.optimizers import Adam\n",
        "from sklearn.preprocessing import LabelEncoder"
      ]
    },
    {
      "cell_type": "code",
      "source": [
        "!nvidia-smi"
      ],
      "metadata": {
        "colab": {
          "base_uri": "https://localhost:8080/"
        },
        "id": "-U6mwOX5CYRu",
        "outputId": "9ecc3969-98c4-48d9-c62a-820fc10bb620"
      },
      "execution_count": null,
      "outputs": [
        {
          "output_type": "stream",
          "name": "stdout",
          "text": [
            "Sat Apr  1 16:42:06 2023       \n",
            "+-----------------------------------------------------------------------------+\n",
            "| NVIDIA-SMI 525.85.12    Driver Version: 525.85.12    CUDA Version: 12.0     |\n",
            "|-------------------------------+----------------------+----------------------+\n",
            "| GPU  Name        Persistence-M| Bus-Id        Disp.A | Volatile Uncorr. ECC |\n",
            "| Fan  Temp  Perf  Pwr:Usage/Cap|         Memory-Usage | GPU-Util  Compute M. |\n",
            "|                               |                      |               MIG M. |\n",
            "|===============================+======================+======================|\n",
            "|   0  Tesla T4            Off  | 00000000:00:04.0 Off |                    0 |\n",
            "| N/A   61C    P8    11W /  70W |      0MiB / 15360MiB |      0%      Default |\n",
            "|                               |                      |                  N/A |\n",
            "+-------------------------------+----------------------+----------------------+\n",
            "                                                                               \n",
            "+-----------------------------------------------------------------------------+\n",
            "| Processes:                                                                  |\n",
            "|  GPU   GI   CI        PID   Type   Process name                  GPU Memory |\n",
            "|        ID   ID                                                   Usage      |\n",
            "|=============================================================================|\n",
            "|  No running processes found                                                 |\n",
            "+-----------------------------------------------------------------------------+\n"
          ]
        }
      ]
    },
    {
      "cell_type": "code",
      "source": [
        "data = pd.read_csv(\"/content/sample_data/train_NIR5Yl1.csv\")\n",
        "data.head()"
      ],
      "metadata": {
        "colab": {
          "base_uri": "https://localhost:8080/",
          "height": 206
        },
        "id": "sSSPkNSNLu9e",
        "outputId": "44f38d97-04df-471e-b904-8d4abfcb7336"
      },
      "execution_count": null,
      "outputs": [
        {
          "output_type": "execute_result",
          "data": {
            "text/plain": [
              "       ID Tag  Reputation  Answers  Username    Views  Upvotes\n",
              "0   52664   a      3942.0      2.0    155623   7855.0     42.0\n",
              "1  327662   a     26046.0     12.0     21781  55801.0   1175.0\n",
              "2  468453   c      1358.0      4.0     56177   8067.0     60.0\n",
              "3   96996   a       264.0      3.0    168793  27064.0      9.0\n",
              "4  131465   c      4271.0      4.0    112223  13986.0     83.0"
            ],
            "text/html": [
              "\n",
              "  <div id=\"df-096326e6-bfe2-4797-9321-a6492738e8d6\">\n",
              "    <div class=\"colab-df-container\">\n",
              "      <div>\n",
              "<style scoped>\n",
              "    .dataframe tbody tr th:only-of-type {\n",
              "        vertical-align: middle;\n",
              "    }\n",
              "\n",
              "    .dataframe tbody tr th {\n",
              "        vertical-align: top;\n",
              "    }\n",
              "\n",
              "    .dataframe thead th {\n",
              "        text-align: right;\n",
              "    }\n",
              "</style>\n",
              "<table border=\"1\" class=\"dataframe\">\n",
              "  <thead>\n",
              "    <tr style=\"text-align: right;\">\n",
              "      <th></th>\n",
              "      <th>ID</th>\n",
              "      <th>Tag</th>\n",
              "      <th>Reputation</th>\n",
              "      <th>Answers</th>\n",
              "      <th>Username</th>\n",
              "      <th>Views</th>\n",
              "      <th>Upvotes</th>\n",
              "    </tr>\n",
              "  </thead>\n",
              "  <tbody>\n",
              "    <tr>\n",
              "      <th>0</th>\n",
              "      <td>52664</td>\n",
              "      <td>a</td>\n",
              "      <td>3942.0</td>\n",
              "      <td>2.0</td>\n",
              "      <td>155623</td>\n",
              "      <td>7855.0</td>\n",
              "      <td>42.0</td>\n",
              "    </tr>\n",
              "    <tr>\n",
              "      <th>1</th>\n",
              "      <td>327662</td>\n",
              "      <td>a</td>\n",
              "      <td>26046.0</td>\n",
              "      <td>12.0</td>\n",
              "      <td>21781</td>\n",
              "      <td>55801.0</td>\n",
              "      <td>1175.0</td>\n",
              "    </tr>\n",
              "    <tr>\n",
              "      <th>2</th>\n",
              "      <td>468453</td>\n",
              "      <td>c</td>\n",
              "      <td>1358.0</td>\n",
              "      <td>4.0</td>\n",
              "      <td>56177</td>\n",
              "      <td>8067.0</td>\n",
              "      <td>60.0</td>\n",
              "    </tr>\n",
              "    <tr>\n",
              "      <th>3</th>\n",
              "      <td>96996</td>\n",
              "      <td>a</td>\n",
              "      <td>264.0</td>\n",
              "      <td>3.0</td>\n",
              "      <td>168793</td>\n",
              "      <td>27064.0</td>\n",
              "      <td>9.0</td>\n",
              "    </tr>\n",
              "    <tr>\n",
              "      <th>4</th>\n",
              "      <td>131465</td>\n",
              "      <td>c</td>\n",
              "      <td>4271.0</td>\n",
              "      <td>4.0</td>\n",
              "      <td>112223</td>\n",
              "      <td>13986.0</td>\n",
              "      <td>83.0</td>\n",
              "    </tr>\n",
              "  </tbody>\n",
              "</table>\n",
              "</div>\n",
              "      <button class=\"colab-df-convert\" onclick=\"convertToInteractive('df-096326e6-bfe2-4797-9321-a6492738e8d6')\"\n",
              "              title=\"Convert this dataframe to an interactive table.\"\n",
              "              style=\"display:none;\">\n",
              "        \n",
              "  <svg xmlns=\"http://www.w3.org/2000/svg\" height=\"24px\"viewBox=\"0 0 24 24\"\n",
              "       width=\"24px\">\n",
              "    <path d=\"M0 0h24v24H0V0z\" fill=\"none\"/>\n",
              "    <path d=\"M18.56 5.44l.94 2.06.94-2.06 2.06-.94-2.06-.94-.94-2.06-.94 2.06-2.06.94zm-11 1L8.5 8.5l.94-2.06 2.06-.94-2.06-.94L8.5 2.5l-.94 2.06-2.06.94zm10 10l.94 2.06.94-2.06 2.06-.94-2.06-.94-.94-2.06-.94 2.06-2.06.94z\"/><path d=\"M17.41 7.96l-1.37-1.37c-.4-.4-.92-.59-1.43-.59-.52 0-1.04.2-1.43.59L10.3 9.45l-7.72 7.72c-.78.78-.78 2.05 0 2.83L4 21.41c.39.39.9.59 1.41.59.51 0 1.02-.2 1.41-.59l7.78-7.78 2.81-2.81c.8-.78.8-2.07 0-2.86zM5.41 20L4 18.59l7.72-7.72 1.47 1.35L5.41 20z\"/>\n",
              "  </svg>\n",
              "      </button>\n",
              "      \n",
              "  <style>\n",
              "    .colab-df-container {\n",
              "      display:flex;\n",
              "      flex-wrap:wrap;\n",
              "      gap: 12px;\n",
              "    }\n",
              "\n",
              "    .colab-df-convert {\n",
              "      background-color: #E8F0FE;\n",
              "      border: none;\n",
              "      border-radius: 50%;\n",
              "      cursor: pointer;\n",
              "      display: none;\n",
              "      fill: #1967D2;\n",
              "      height: 32px;\n",
              "      padding: 0 0 0 0;\n",
              "      width: 32px;\n",
              "    }\n",
              "\n",
              "    .colab-df-convert:hover {\n",
              "      background-color: #E2EBFA;\n",
              "      box-shadow: 0px 1px 2px rgba(60, 64, 67, 0.3), 0px 1px 3px 1px rgba(60, 64, 67, 0.15);\n",
              "      fill: #174EA6;\n",
              "    }\n",
              "\n",
              "    [theme=dark] .colab-df-convert {\n",
              "      background-color: #3B4455;\n",
              "      fill: #D2E3FC;\n",
              "    }\n",
              "\n",
              "    [theme=dark] .colab-df-convert:hover {\n",
              "      background-color: #434B5C;\n",
              "      box-shadow: 0px 1px 3px 1px rgba(0, 0, 0, 0.15);\n",
              "      filter: drop-shadow(0px 1px 2px rgba(0, 0, 0, 0.3));\n",
              "      fill: #FFFFFF;\n",
              "    }\n",
              "  </style>\n",
              "\n",
              "      <script>\n",
              "        const buttonEl =\n",
              "          document.querySelector('#df-096326e6-bfe2-4797-9321-a6492738e8d6 button.colab-df-convert');\n",
              "        buttonEl.style.display =\n",
              "          google.colab.kernel.accessAllowed ? 'block' : 'none';\n",
              "\n",
              "        async function convertToInteractive(key) {\n",
              "          const element = document.querySelector('#df-096326e6-bfe2-4797-9321-a6492738e8d6');\n",
              "          const dataTable =\n",
              "            await google.colab.kernel.invokeFunction('convertToInteractive',\n",
              "                                                     [key], {});\n",
              "          if (!dataTable) return;\n",
              "\n",
              "          const docLinkHtml = 'Like what you see? Visit the ' +\n",
              "            '<a target=\"_blank\" href=https://colab.research.google.com/notebooks/data_table.ipynb>data table notebook</a>'\n",
              "            + ' to learn more about interactive tables.';\n",
              "          element.innerHTML = '';\n",
              "          dataTable['output_type'] = 'display_data';\n",
              "          await google.colab.output.renderOutput(dataTable, element);\n",
              "          const docLink = document.createElement('div');\n",
              "          docLink.innerHTML = docLinkHtml;\n",
              "          element.appendChild(docLink);\n",
              "        }\n",
              "      </script>\n",
              "    </div>\n",
              "  </div>\n",
              "  "
            ]
          },
          "metadata": {},
          "execution_count": 3
        }
      ]
    },
    {
      "cell_type": "code",
      "source": [
        "data.info()"
      ],
      "metadata": {
        "colab": {
          "base_uri": "https://localhost:8080/"
        },
        "id": "bgiUbEwKMCzd",
        "outputId": "8b9fb285-5c52-4b1d-9099-31e91af2fbc4"
      },
      "execution_count": null,
      "outputs": [
        {
          "output_type": "stream",
          "name": "stdout",
          "text": [
            "<class 'pandas.core.frame.DataFrame'>\n",
            "RangeIndex: 330045 entries, 0 to 330044\n",
            "Data columns (total 7 columns):\n",
            " #   Column      Non-Null Count   Dtype  \n",
            "---  ------      --------------   -----  \n",
            " 0   ID          330045 non-null  int64  \n",
            " 1   Tag         330045 non-null  object \n",
            " 2   Reputation  330045 non-null  float64\n",
            " 3   Answers     330045 non-null  float64\n",
            " 4   Username    330045 non-null  int64  \n",
            " 5   Views       330045 non-null  float64\n",
            " 6   Upvotes     330045 non-null  float64\n",
            "dtypes: float64(4), int64(2), object(1)\n",
            "memory usage: 17.6+ MB\n"
          ]
        }
      ]
    },
    {
      "cell_type": "code",
      "source": [
        "Le = LabelEncoder()\n",
        "data['Tag'] = Le.fit_transform(data['Tag'])"
      ],
      "metadata": {
        "id": "L3tZMBywMKcm"
      },
      "execution_count": null,
      "outputs": []
    },
    {
      "cell_type": "code",
      "source": [
        "features = data[['Reputation', 'Answers', 'Views', 'Tag']]\n",
        "target = data['Upvotes']"
      ],
      "metadata": {
        "id": "h51kSyRhaVs6"
      },
      "execution_count": null,
      "outputs": []
    },
    {
      "cell_type": "code",
      "source": [
        "features"
      ],
      "metadata": {
        "colab": {
          "base_uri": "https://localhost:8080/",
          "height": 423
        },
        "id": "Smcv-2y4aVvi",
        "outputId": "77beabe1-9b6d-49c4-e82a-66d33b58229a"
      },
      "execution_count": null,
      "outputs": [
        {
          "output_type": "execute_result",
          "data": {
            "text/plain": [
              "        Reputation  Answers    Views  Tag\n",
              "0           3942.0      2.0   7855.0    0\n",
              "1          26046.0     12.0  55801.0    0\n",
              "2           1358.0      4.0   8067.0    1\n",
              "3            264.0      3.0  27064.0    0\n",
              "4           4271.0      4.0  13986.0    1\n",
              "...            ...      ...      ...  ...\n",
              "330040        36.0      2.0   1063.0    1\n",
              "330041      1649.0      2.0  23319.0    1\n",
              "330042      6178.0      2.0   2453.0    1\n",
              "330043        89.0      2.0   2107.0    4\n",
              "330044      2001.0      4.0   2554.0    4\n",
              "\n",
              "[330045 rows x 4 columns]"
            ],
            "text/html": [
              "\n",
              "  <div id=\"df-cc987c5a-9601-4c63-b63c-f1c4202d3f13\">\n",
              "    <div class=\"colab-df-container\">\n",
              "      <div>\n",
              "<style scoped>\n",
              "    .dataframe tbody tr th:only-of-type {\n",
              "        vertical-align: middle;\n",
              "    }\n",
              "\n",
              "    .dataframe tbody tr th {\n",
              "        vertical-align: top;\n",
              "    }\n",
              "\n",
              "    .dataframe thead th {\n",
              "        text-align: right;\n",
              "    }\n",
              "</style>\n",
              "<table border=\"1\" class=\"dataframe\">\n",
              "  <thead>\n",
              "    <tr style=\"text-align: right;\">\n",
              "      <th></th>\n",
              "      <th>Reputation</th>\n",
              "      <th>Answers</th>\n",
              "      <th>Views</th>\n",
              "      <th>Tag</th>\n",
              "    </tr>\n",
              "  </thead>\n",
              "  <tbody>\n",
              "    <tr>\n",
              "      <th>0</th>\n",
              "      <td>3942.0</td>\n",
              "      <td>2.0</td>\n",
              "      <td>7855.0</td>\n",
              "      <td>0</td>\n",
              "    </tr>\n",
              "    <tr>\n",
              "      <th>1</th>\n",
              "      <td>26046.0</td>\n",
              "      <td>12.0</td>\n",
              "      <td>55801.0</td>\n",
              "      <td>0</td>\n",
              "    </tr>\n",
              "    <tr>\n",
              "      <th>2</th>\n",
              "      <td>1358.0</td>\n",
              "      <td>4.0</td>\n",
              "      <td>8067.0</td>\n",
              "      <td>1</td>\n",
              "    </tr>\n",
              "    <tr>\n",
              "      <th>3</th>\n",
              "      <td>264.0</td>\n",
              "      <td>3.0</td>\n",
              "      <td>27064.0</td>\n",
              "      <td>0</td>\n",
              "    </tr>\n",
              "    <tr>\n",
              "      <th>4</th>\n",
              "      <td>4271.0</td>\n",
              "      <td>4.0</td>\n",
              "      <td>13986.0</td>\n",
              "      <td>1</td>\n",
              "    </tr>\n",
              "    <tr>\n",
              "      <th>...</th>\n",
              "      <td>...</td>\n",
              "      <td>...</td>\n",
              "      <td>...</td>\n",
              "      <td>...</td>\n",
              "    </tr>\n",
              "    <tr>\n",
              "      <th>330040</th>\n",
              "      <td>36.0</td>\n",
              "      <td>2.0</td>\n",
              "      <td>1063.0</td>\n",
              "      <td>1</td>\n",
              "    </tr>\n",
              "    <tr>\n",
              "      <th>330041</th>\n",
              "      <td>1649.0</td>\n",
              "      <td>2.0</td>\n",
              "      <td>23319.0</td>\n",
              "      <td>1</td>\n",
              "    </tr>\n",
              "    <tr>\n",
              "      <th>330042</th>\n",
              "      <td>6178.0</td>\n",
              "      <td>2.0</td>\n",
              "      <td>2453.0</td>\n",
              "      <td>1</td>\n",
              "    </tr>\n",
              "    <tr>\n",
              "      <th>330043</th>\n",
              "      <td>89.0</td>\n",
              "      <td>2.0</td>\n",
              "      <td>2107.0</td>\n",
              "      <td>4</td>\n",
              "    </tr>\n",
              "    <tr>\n",
              "      <th>330044</th>\n",
              "      <td>2001.0</td>\n",
              "      <td>4.0</td>\n",
              "      <td>2554.0</td>\n",
              "      <td>4</td>\n",
              "    </tr>\n",
              "  </tbody>\n",
              "</table>\n",
              "<p>330045 rows × 4 columns</p>\n",
              "</div>\n",
              "      <button class=\"colab-df-convert\" onclick=\"convertToInteractive('df-cc987c5a-9601-4c63-b63c-f1c4202d3f13')\"\n",
              "              title=\"Convert this dataframe to an interactive table.\"\n",
              "              style=\"display:none;\">\n",
              "        \n",
              "  <svg xmlns=\"http://www.w3.org/2000/svg\" height=\"24px\"viewBox=\"0 0 24 24\"\n",
              "       width=\"24px\">\n",
              "    <path d=\"M0 0h24v24H0V0z\" fill=\"none\"/>\n",
              "    <path d=\"M18.56 5.44l.94 2.06.94-2.06 2.06-.94-2.06-.94-.94-2.06-.94 2.06-2.06.94zm-11 1L8.5 8.5l.94-2.06 2.06-.94-2.06-.94L8.5 2.5l-.94 2.06-2.06.94zm10 10l.94 2.06.94-2.06 2.06-.94-2.06-.94-.94-2.06-.94 2.06-2.06.94z\"/><path d=\"M17.41 7.96l-1.37-1.37c-.4-.4-.92-.59-1.43-.59-.52 0-1.04.2-1.43.59L10.3 9.45l-7.72 7.72c-.78.78-.78 2.05 0 2.83L4 21.41c.39.39.9.59 1.41.59.51 0 1.02-.2 1.41-.59l7.78-7.78 2.81-2.81c.8-.78.8-2.07 0-2.86zM5.41 20L4 18.59l7.72-7.72 1.47 1.35L5.41 20z\"/>\n",
              "  </svg>\n",
              "      </button>\n",
              "      \n",
              "  <style>\n",
              "    .colab-df-container {\n",
              "      display:flex;\n",
              "      flex-wrap:wrap;\n",
              "      gap: 12px;\n",
              "    }\n",
              "\n",
              "    .colab-df-convert {\n",
              "      background-color: #E8F0FE;\n",
              "      border: none;\n",
              "      border-radius: 50%;\n",
              "      cursor: pointer;\n",
              "      display: none;\n",
              "      fill: #1967D2;\n",
              "      height: 32px;\n",
              "      padding: 0 0 0 0;\n",
              "      width: 32px;\n",
              "    }\n",
              "\n",
              "    .colab-df-convert:hover {\n",
              "      background-color: #E2EBFA;\n",
              "      box-shadow: 0px 1px 2px rgba(60, 64, 67, 0.3), 0px 1px 3px 1px rgba(60, 64, 67, 0.15);\n",
              "      fill: #174EA6;\n",
              "    }\n",
              "\n",
              "    [theme=dark] .colab-df-convert {\n",
              "      background-color: #3B4455;\n",
              "      fill: #D2E3FC;\n",
              "    }\n",
              "\n",
              "    [theme=dark] .colab-df-convert:hover {\n",
              "      background-color: #434B5C;\n",
              "      box-shadow: 0px 1px 3px 1px rgba(0, 0, 0, 0.15);\n",
              "      filter: drop-shadow(0px 1px 2px rgba(0, 0, 0, 0.3));\n",
              "      fill: #FFFFFF;\n",
              "    }\n",
              "  </style>\n",
              "\n",
              "      <script>\n",
              "        const buttonEl =\n",
              "          document.querySelector('#df-cc987c5a-9601-4c63-b63c-f1c4202d3f13 button.colab-df-convert');\n",
              "        buttonEl.style.display =\n",
              "          google.colab.kernel.accessAllowed ? 'block' : 'none';\n",
              "\n",
              "        async function convertToInteractive(key) {\n",
              "          const element = document.querySelector('#df-cc987c5a-9601-4c63-b63c-f1c4202d3f13');\n",
              "          const dataTable =\n",
              "            await google.colab.kernel.invokeFunction('convertToInteractive',\n",
              "                                                     [key], {});\n",
              "          if (!dataTable) return;\n",
              "\n",
              "          const docLinkHtml = 'Like what you see? Visit the ' +\n",
              "            '<a target=\"_blank\" href=https://colab.research.google.com/notebooks/data_table.ipynb>data table notebook</a>'\n",
              "            + ' to learn more about interactive tables.';\n",
              "          element.innerHTML = '';\n",
              "          dataTable['output_type'] = 'display_data';\n",
              "          await google.colab.output.renderOutput(dataTable, element);\n",
              "          const docLink = document.createElement('div');\n",
              "          docLink.innerHTML = docLinkHtml;\n",
              "          element.appendChild(docLink);\n",
              "        }\n",
              "      </script>\n",
              "    </div>\n",
              "  </div>\n",
              "  "
            ]
          },
          "metadata": {},
          "execution_count": 7
        }
      ]
    },
    {
      "cell_type": "code",
      "source": [
        "target"
      ],
      "metadata": {
        "colab": {
          "base_uri": "https://localhost:8080/"
        },
        "id": "35ic-5E_aVx5",
        "outputId": "256368f3-bb9d-427a-e3c9-7220bc909e72"
      },
      "execution_count": null,
      "outputs": [
        {
          "output_type": "execute_result",
          "data": {
            "text/plain": [
              "0           42.0\n",
              "1         1175.0\n",
              "2           60.0\n",
              "3            9.0\n",
              "4           83.0\n",
              "           ...  \n",
              "330040       0.0\n",
              "330041      73.0\n",
              "330042      15.0\n",
              "330043       3.0\n",
              "330044      37.0\n",
              "Name: Upvotes, Length: 330045, dtype: float64"
            ]
          },
          "metadata": {},
          "execution_count": 8
        }
      ]
    },
    {
      "cell_type": "code",
      "source": [
        "data_preprocessed = pd.concat([features, target], axis=1)"
      ],
      "metadata": {
        "id": "8pc03OW2aV0S"
      },
      "execution_count": null,
      "outputs": []
    },
    {
      "cell_type": "code",
      "source": [
        "dataset = data_preprocessed"
      ],
      "metadata": {
        "id": "9NXQxJujaV2j"
      },
      "execution_count": null,
      "outputs": []
    },
    {
      "cell_type": "code",
      "source": [
        "dataset"
      ],
      "metadata": {
        "colab": {
          "base_uri": "https://localhost:8080/",
          "height": 423
        },
        "id": "LNSxU_lWaV5X",
        "outputId": "135be3b2-13c2-41ab-eeed-45e607e003cd"
      },
      "execution_count": null,
      "outputs": [
        {
          "output_type": "execute_result",
          "data": {
            "text/plain": [
              "        Reputation  Answers    Views  Tag  Upvotes\n",
              "0           3942.0      2.0   7855.0    0     42.0\n",
              "1          26046.0     12.0  55801.0    0   1175.0\n",
              "2           1358.0      4.0   8067.0    1     60.0\n",
              "3            264.0      3.0  27064.0    0      9.0\n",
              "4           4271.0      4.0  13986.0    1     83.0\n",
              "...            ...      ...      ...  ...      ...\n",
              "330040        36.0      2.0   1063.0    1      0.0\n",
              "330041      1649.0      2.0  23319.0    1     73.0\n",
              "330042      6178.0      2.0   2453.0    1     15.0\n",
              "330043        89.0      2.0   2107.0    4      3.0\n",
              "330044      2001.0      4.0   2554.0    4     37.0\n",
              "\n",
              "[330045 rows x 5 columns]"
            ],
            "text/html": [
              "\n",
              "  <div id=\"df-3c00eb99-90b9-40cf-baff-e898fdc10b07\">\n",
              "    <div class=\"colab-df-container\">\n",
              "      <div>\n",
              "<style scoped>\n",
              "    .dataframe tbody tr th:only-of-type {\n",
              "        vertical-align: middle;\n",
              "    }\n",
              "\n",
              "    .dataframe tbody tr th {\n",
              "        vertical-align: top;\n",
              "    }\n",
              "\n",
              "    .dataframe thead th {\n",
              "        text-align: right;\n",
              "    }\n",
              "</style>\n",
              "<table border=\"1\" class=\"dataframe\">\n",
              "  <thead>\n",
              "    <tr style=\"text-align: right;\">\n",
              "      <th></th>\n",
              "      <th>Reputation</th>\n",
              "      <th>Answers</th>\n",
              "      <th>Views</th>\n",
              "      <th>Tag</th>\n",
              "      <th>Upvotes</th>\n",
              "    </tr>\n",
              "  </thead>\n",
              "  <tbody>\n",
              "    <tr>\n",
              "      <th>0</th>\n",
              "      <td>3942.0</td>\n",
              "      <td>2.0</td>\n",
              "      <td>7855.0</td>\n",
              "      <td>0</td>\n",
              "      <td>42.0</td>\n",
              "    </tr>\n",
              "    <tr>\n",
              "      <th>1</th>\n",
              "      <td>26046.0</td>\n",
              "      <td>12.0</td>\n",
              "      <td>55801.0</td>\n",
              "      <td>0</td>\n",
              "      <td>1175.0</td>\n",
              "    </tr>\n",
              "    <tr>\n",
              "      <th>2</th>\n",
              "      <td>1358.0</td>\n",
              "      <td>4.0</td>\n",
              "      <td>8067.0</td>\n",
              "      <td>1</td>\n",
              "      <td>60.0</td>\n",
              "    </tr>\n",
              "    <tr>\n",
              "      <th>3</th>\n",
              "      <td>264.0</td>\n",
              "      <td>3.0</td>\n",
              "      <td>27064.0</td>\n",
              "      <td>0</td>\n",
              "      <td>9.0</td>\n",
              "    </tr>\n",
              "    <tr>\n",
              "      <th>4</th>\n",
              "      <td>4271.0</td>\n",
              "      <td>4.0</td>\n",
              "      <td>13986.0</td>\n",
              "      <td>1</td>\n",
              "      <td>83.0</td>\n",
              "    </tr>\n",
              "    <tr>\n",
              "      <th>...</th>\n",
              "      <td>...</td>\n",
              "      <td>...</td>\n",
              "      <td>...</td>\n",
              "      <td>...</td>\n",
              "      <td>...</td>\n",
              "    </tr>\n",
              "    <tr>\n",
              "      <th>330040</th>\n",
              "      <td>36.0</td>\n",
              "      <td>2.0</td>\n",
              "      <td>1063.0</td>\n",
              "      <td>1</td>\n",
              "      <td>0.0</td>\n",
              "    </tr>\n",
              "    <tr>\n",
              "      <th>330041</th>\n",
              "      <td>1649.0</td>\n",
              "      <td>2.0</td>\n",
              "      <td>23319.0</td>\n",
              "      <td>1</td>\n",
              "      <td>73.0</td>\n",
              "    </tr>\n",
              "    <tr>\n",
              "      <th>330042</th>\n",
              "      <td>6178.0</td>\n",
              "      <td>2.0</td>\n",
              "      <td>2453.0</td>\n",
              "      <td>1</td>\n",
              "      <td>15.0</td>\n",
              "    </tr>\n",
              "    <tr>\n",
              "      <th>330043</th>\n",
              "      <td>89.0</td>\n",
              "      <td>2.0</td>\n",
              "      <td>2107.0</td>\n",
              "      <td>4</td>\n",
              "      <td>3.0</td>\n",
              "    </tr>\n",
              "    <tr>\n",
              "      <th>330044</th>\n",
              "      <td>2001.0</td>\n",
              "      <td>4.0</td>\n",
              "      <td>2554.0</td>\n",
              "      <td>4</td>\n",
              "      <td>37.0</td>\n",
              "    </tr>\n",
              "  </tbody>\n",
              "</table>\n",
              "<p>330045 rows × 5 columns</p>\n",
              "</div>\n",
              "      <button class=\"colab-df-convert\" onclick=\"convertToInteractive('df-3c00eb99-90b9-40cf-baff-e898fdc10b07')\"\n",
              "              title=\"Convert this dataframe to an interactive table.\"\n",
              "              style=\"display:none;\">\n",
              "        \n",
              "  <svg xmlns=\"http://www.w3.org/2000/svg\" height=\"24px\"viewBox=\"0 0 24 24\"\n",
              "       width=\"24px\">\n",
              "    <path d=\"M0 0h24v24H0V0z\" fill=\"none\"/>\n",
              "    <path d=\"M18.56 5.44l.94 2.06.94-2.06 2.06-.94-2.06-.94-.94-2.06-.94 2.06-2.06.94zm-11 1L8.5 8.5l.94-2.06 2.06-.94-2.06-.94L8.5 2.5l-.94 2.06-2.06.94zm10 10l.94 2.06.94-2.06 2.06-.94-2.06-.94-.94-2.06-.94 2.06-2.06.94z\"/><path d=\"M17.41 7.96l-1.37-1.37c-.4-.4-.92-.59-1.43-.59-.52 0-1.04.2-1.43.59L10.3 9.45l-7.72 7.72c-.78.78-.78 2.05 0 2.83L4 21.41c.39.39.9.59 1.41.59.51 0 1.02-.2 1.41-.59l7.78-7.78 2.81-2.81c.8-.78.8-2.07 0-2.86zM5.41 20L4 18.59l7.72-7.72 1.47 1.35L5.41 20z\"/>\n",
              "  </svg>\n",
              "      </button>\n",
              "      \n",
              "  <style>\n",
              "    .colab-df-container {\n",
              "      display:flex;\n",
              "      flex-wrap:wrap;\n",
              "      gap: 12px;\n",
              "    }\n",
              "\n",
              "    .colab-df-convert {\n",
              "      background-color: #E8F0FE;\n",
              "      border: none;\n",
              "      border-radius: 50%;\n",
              "      cursor: pointer;\n",
              "      display: none;\n",
              "      fill: #1967D2;\n",
              "      height: 32px;\n",
              "      padding: 0 0 0 0;\n",
              "      width: 32px;\n",
              "    }\n",
              "\n",
              "    .colab-df-convert:hover {\n",
              "      background-color: #E2EBFA;\n",
              "      box-shadow: 0px 1px 2px rgba(60, 64, 67, 0.3), 0px 1px 3px 1px rgba(60, 64, 67, 0.15);\n",
              "      fill: #174EA6;\n",
              "    }\n",
              "\n",
              "    [theme=dark] .colab-df-convert {\n",
              "      background-color: #3B4455;\n",
              "      fill: #D2E3FC;\n",
              "    }\n",
              "\n",
              "    [theme=dark] .colab-df-convert:hover {\n",
              "      background-color: #434B5C;\n",
              "      box-shadow: 0px 1px 3px 1px rgba(0, 0, 0, 0.15);\n",
              "      filter: drop-shadow(0px 1px 2px rgba(0, 0, 0, 0.3));\n",
              "      fill: #FFFFFF;\n",
              "    }\n",
              "  </style>\n",
              "\n",
              "      <script>\n",
              "        const buttonEl =\n",
              "          document.querySelector('#df-3c00eb99-90b9-40cf-baff-e898fdc10b07 button.colab-df-convert');\n",
              "        buttonEl.style.display =\n",
              "          google.colab.kernel.accessAllowed ? 'block' : 'none';\n",
              "\n",
              "        async function convertToInteractive(key) {\n",
              "          const element = document.querySelector('#df-3c00eb99-90b9-40cf-baff-e898fdc10b07');\n",
              "          const dataTable =\n",
              "            await google.colab.kernel.invokeFunction('convertToInteractive',\n",
              "                                                     [key], {});\n",
              "          if (!dataTable) return;\n",
              "\n",
              "          const docLinkHtml = 'Like what you see? Visit the ' +\n",
              "            '<a target=\"_blank\" href=https://colab.research.google.com/notebooks/data_table.ipynb>data table notebook</a>'\n",
              "            + ' to learn more about interactive tables.';\n",
              "          element.innerHTML = '';\n",
              "          dataTable['output_type'] = 'display_data';\n",
              "          await google.colab.output.renderOutput(dataTable, element);\n",
              "          const docLink = document.createElement('div');\n",
              "          docLink.innerHTML = docLinkHtml;\n",
              "          element.appendChild(docLink);\n",
              "        }\n",
              "      </script>\n",
              "    </div>\n",
              "  </div>\n",
              "  "
            ]
          },
          "metadata": {},
          "execution_count": 11
        }
      ]
    },
    {
      "cell_type": "code",
      "source": [
        "tensor_data = tf.constant(dataset)\n",
        "tensor_data = tf.cast(tensor_data, tf.float32)\n",
        "# print(tensor_data)"
      ],
      "metadata": {
        "id": "3hLGEqsuMMrb"
      },
      "execution_count": null,
      "outputs": []
    },
    {
      "cell_type": "code",
      "source": [
        "tensor_data = tf.random.shuffle(tensor_data)\n",
        "# print(tensor_data[:5])"
      ],
      "metadata": {
        "id": "SA-UbmCFMOWE"
      },
      "execution_count": null,
      "outputs": []
    },
    {
      "cell_type": "code",
      "source": [
        "X = tensor_data[:,0:-1]\n",
        "print(X[:5])"
      ],
      "metadata": {
        "colab": {
          "base_uri": "https://localhost:8080/"
        },
        "id": "bwQtuHJRMRbF",
        "outputId": "c98ec1ad-b140-465e-8f1a-831c2d987445"
      },
      "execution_count": null,
      "outputs": [
        {
          "output_type": "stream",
          "name": "stdout",
          "text": [
            "tf.Tensor(\n",
            "[[3.3921e+04 1.8000e+01 7.1868e+04 2.0000e+00]\n",
            " [1.0610e+03 1.0000e+00 1.6810e+03 5.0000e+00]\n",
            " [1.8500e+02 1.0000e+00 1.8060e+03 0.0000e+00]\n",
            " [4.1980e+03 4.0000e+00 1.3090e+03 3.0000e+00]\n",
            " [4.8840e+03 5.0000e+00 1.2191e+04 3.0000e+00]], shape=(5, 4), dtype=float32)\n"
          ]
        }
      ]
    },
    {
      "cell_type": "code",
      "source": [
        "y = tensor_data[:,-1]\n",
        "print(y[:5].shape)\n",
        "y = tf.expand_dims(y, axis = -1)\n",
        "print(y[:5])"
      ],
      "metadata": {
        "colab": {
          "base_uri": "https://localhost:8080/"
        },
        "id": "_GiodlvZMUf2",
        "outputId": "37b14728-c42c-4822-81d1-5c81ae6ad524"
      },
      "execution_count": null,
      "outputs": [
        {
          "output_type": "stream",
          "name": "stdout",
          "text": [
            "(5,)\n",
            "tf.Tensor(\n",
            "[[2795.]\n",
            " [  17.]\n",
            " [  23.]\n",
            " [  11.]\n",
            " [  78.]], shape=(5, 1), dtype=float32)\n"
          ]
        }
      ]
    },
    {
      "cell_type": "code",
      "source": [
        "TRAIN_RATIO = 0.8\n",
        "VAL_RATIO = 0.1\n",
        "TEST_RATIO = 0.1\n",
        "DATASET_SIZE = len(X)"
      ],
      "metadata": {
        "id": "VTztfIpTMWpW"
      },
      "execution_count": null,
      "outputs": []
    },
    {
      "cell_type": "code",
      "source": [
        "X_train = X[:int(DATASET_SIZE*TRAIN_RATIO)]\n",
        "y_train = y[:int(DATASET_SIZE*TRAIN_RATIO)]\n",
        "print(X_train.shape)\n",
        "print(y_train.shape)"
      ],
      "metadata": {
        "colab": {
          "base_uri": "https://localhost:8080/"
        },
        "id": "EO-e82ADMYvW",
        "outputId": "a60903d4-8895-4e89-bc0f-cfd7f214c44c"
      },
      "execution_count": null,
      "outputs": [
        {
          "output_type": "stream",
          "name": "stdout",
          "text": [
            "(264036, 4)\n",
            "(264036, 1)\n"
          ]
        }
      ]
    },
    {
      "cell_type": "code",
      "source": [
        "train_dataset = tf.data.Dataset.from_tensor_slices((X_train, y_train))\n",
        "train_dataset = train_dataset.shuffle(buffer_size = 8, reshuffle_each_iteration = True).batch(128,drop_remainder=True).prefetch(tf.data.AUTOTUNE)"
      ],
      "metadata": {
        "id": "wI_CBq9gMZ9H"
      },
      "execution_count": null,
      "outputs": []
    },
    {
      "cell_type": "code",
      "source": [
        "X_val = X[int(DATASET_SIZE*TRAIN_RATIO):int(DATASET_SIZE*(TRAIN_RATIO+VAL_RATIO))]\n",
        "y_val = y[int(DATASET_SIZE*TRAIN_RATIO):int(DATASET_SIZE*(TRAIN_RATIO+VAL_RATIO))]\n",
        "print(X_val.shape)\n",
        "print(y_val.shape)"
      ],
      "metadata": {
        "colab": {
          "base_uri": "https://localhost:8080/"
        },
        "id": "DdV09FGTMbn2",
        "outputId": "9b9c349d-0f7b-4997-f46f-aff550daf846"
      },
      "execution_count": null,
      "outputs": [
        {
          "output_type": "stream",
          "name": "stdout",
          "text": [
            "(33004, 4)\n",
            "(33004, 1)\n"
          ]
        }
      ]
    },
    {
      "cell_type": "code",
      "source": [
        "val_dataset = tf.data.Dataset.from_tensor_slices((X_val, y_val))\n",
        "val_dataset = val_dataset.shuffle(buffer_size = 8, reshuffle_each_iteration = True).batch(128,drop_remainder=True).prefetch(tf.data.AUTOTUNE)"
      ],
      "metadata": {
        "id": "5SIM1zRFMc2W"
      },
      "execution_count": null,
      "outputs": []
    },
    {
      "cell_type": "code",
      "source": [
        "X_test = X[int(DATASET_SIZE*(TRAIN_RATIO+VAL_RATIO)):]\n",
        "y_test = y[int(DATASET_SIZE*(TRAIN_RATIO+VAL_RATIO)):]\n",
        "print(X_test.shape)\n",
        "print(y_test.shape)"
      ],
      "metadata": {
        "colab": {
          "base_uri": "https://localhost:8080/"
        },
        "id": "ZUCqvxsyMehv",
        "outputId": "f365a409-5e47-4960-fb4a-db4dd9fa6e56"
      },
      "execution_count": null,
      "outputs": [
        {
          "output_type": "stream",
          "name": "stdout",
          "text": [
            "(33005, 4)\n",
            "(33005, 1)\n"
          ]
        }
      ]
    },
    {
      "cell_type": "code",
      "source": [
        "# do not need \n",
        "# test_dataset = tf.data.Dataset.from_tensor_slices((X_test, y_test))\n",
        "# test_dataset = test_dataset.shuffle(buffer_size = 8, reshuffle_each_iteration = True).batch(32,drop_remainder=True).prefetch(tf.data.AUTOTUNE)"
      ],
      "metadata": {
        "id": "PI3Ua8e2Mfs2"
      },
      "execution_count": null,
      "outputs": []
    },
    {
      "cell_type": "code",
      "source": [
        "normalizer = Normalization()\n",
        "normalizer.adapt(X_train)\n",
        "normalizer(X)[:5]"
      ],
      "metadata": {
        "colab": {
          "base_uri": "https://localhost:8080/"
        },
        "id": "dLeZlWCJMhQt",
        "outputId": "789c9a6c-b391-45a2-a29d-7f30c101d3bd"
      },
      "execution_count": null,
      "outputs": [
        {
          "output_type": "execute_result",
          "data": {
            "text/plain": [
              "<tf.Tensor: shape=(5, 4), dtype=float32, numpy=\n",
              "array([[ 0.9744355 ,  3.9430382 ,  0.525532  , -0.6189888 ],\n",
              "       [-0.2485274 , -0.81647563, -0.34795123,  0.58507645],\n",
              "       [-0.2811298 , -0.81647563, -0.3463956 , -1.421699  ],\n",
              "       [-0.13177648,  0.0234386 , -0.35258082, -0.21763371],\n",
              "       [-0.10624537,  0.30341   , -0.21715339, -0.21763371]],\n",
              "      dtype=float32)>"
            ]
          },
          "metadata": {},
          "execution_count": 23
        }
      ]
    },
    {
      "cell_type": "code",
      "source": [
        "early_stopping = EarlyStopping(patience = 8)\n",
        "checkpoint = ModelCheckpoint(\"best_model.h5\" , save_best_only = True, save_weights_only = True)\n",
        "lr_scheduler = ReduceLROnPlateau(patience = 4, factor = 0.3)\n",
        "\n",
        "callbacks = [early_stopping, checkpoint, lr_scheduler]"
      ],
      "metadata": {
        "id": "glgSV4pWMihe"
      },
      "execution_count": null,
      "outputs": []
    },
    {
      "cell_type": "code",
      "source": [
        "rmse = tf.keras.metrics.RootMeanSquaredError()"
      ],
      "metadata": {
        "id": "ZTmU91jOgKvT"
      },
      "execution_count": null,
      "outputs": []
    },
    {
      "cell_type": "code",
      "source": [],
      "metadata": {
        "id": "_vi-Gk9IMlYV"
      },
      "execution_count": null,
      "outputs": []
    },
    {
      "cell_type": "code",
      "source": [
        "model = tf.keras.Sequential([\n",
        "                             InputLayer(input_shape = (4,)),\n",
        "                             normalizer,\n",
        "                             Dense(128, activation = \"relu\"),\n",
        "                             Dense(128, activation = \"relu\"),\n",
        "                             Dense(128, activation = \"relu\"),\n",
        "                             Dense(1),\n",
        "])\n",
        "model.summary()"
      ],
      "metadata": {
        "colab": {
          "base_uri": "https://localhost:8080/"
        },
        "id": "Y6vX8CnwMlj5",
        "outputId": "d960db30-743a-47df-b04a-f53ff92975d1"
      },
      "execution_count": null,
      "outputs": [
        {
          "output_type": "stream",
          "name": "stdout",
          "text": [
            "Model: \"sequential\"\n",
            "_________________________________________________________________\n",
            " Layer (type)                Output Shape              Param #   \n",
            "=================================================================\n",
            " normalization (Normalizatio  (None, 4)                9         \n",
            " n)                                                              \n",
            "                                                                 \n",
            " dense (Dense)               (None, 128)               640       \n",
            "                                                                 \n",
            " dense_1 (Dense)             (None, 128)               16512     \n",
            "                                                                 \n",
            " dense_2 (Dense)             (None, 128)               16512     \n",
            "                                                                 \n",
            " dense_3 (Dense)             (None, 1)                 129       \n",
            "                                                                 \n",
            "=================================================================\n",
            "Total params: 33,802\n",
            "Trainable params: 33,793\n",
            "Non-trainable params: 9\n",
            "_________________________________________________________________\n"
          ]
        }
      ]
    },
    {
      "cell_type": "code",
      "source": [
        "tf.keras.utils.plot_model(model, to_file = \"model.png\", show_shapes=True)"
      ],
      "metadata": {
        "colab": {
          "base_uri": "https://localhost:8080/",
          "height": 644
        },
        "id": "hLzLDza6MoqG",
        "outputId": "331c643e-dedc-4ad9-f4ff-595a624c6f19"
      },
      "execution_count": null,
      "outputs": [
        {
          "output_type": "execute_result",
          "data": {
            "image/png": "[encoded data removed]",
            "text/plain": [
              "<IPython.core.display.Image object>"
            ]
          },
          "metadata": {},
          "execution_count": 27
        }
      ]
    },
    {
      "cell_type": "code",
      "source": [
        "# pretrained_model = model which is already trained - (transfer learning)\n",
        "#  a. keep less learning rate\n",
        "optimizer = Adam(learning_rate=0.0004) \n",
        "model.compile(loss = tf.keras.losses.MSE, optimizer = optimizer, metrics = [rmse])"
      ],
      "metadata": {
        "id": "1bLqfiPpiQsD"
      },
      "execution_count": null,
      "outputs": []
    },
    {
      "cell_type": "code",
      "source": [],
      "metadata": {
        "id": "CV8ctvdcMq69"
      },
      "execution_count": null,
      "outputs": []
    },
    {
      "cell_type": "code",
      "source": [
        "history = model.fit(train_dataset, validation_data=val_dataset, epochs = 100,callbacks = callbacks,verbose = 1)"
      ],
      "metadata": {
        "colab": {
          "base_uri": "https://localhost:8080/"
        },
        "id": "OG1BBu29Mwwm",
        "outputId": "9a8b6dac-f786-4cda-91c0-a04c254fcdb4"
      },
      "execution_count": null,
      "outputs": [
        {
          "output_type": "stream",
          "name": "stdout",
          "text": [
            "Epoch 1/100\n",
            "2062/2062 [==============================] - 11s 4ms/step - loss: 10340361.0000 - root_mean_squared_error: 3215.6433 - val_loss: 11537191.0000 - val_root_mean_squared_error: 3396.6440 - lr: 4.0000e-04\n",
            "Epoch 2/100\n",
            "2062/2062 [==============================] - 7s 3ms/step - loss: 8904003.0000 - root_mean_squared_error: 2983.9575 - val_loss: 10782125.0000 - val_root_mean_squared_error: 3283.6145 - lr: 4.0000e-04\n",
            "Epoch 3/100\n",
            "2062/2062 [==============================] - 7s 4ms/step - loss: 8463173.0000 - root_mean_squared_error: 2909.1533 - val_loss: 10113271.0000 - val_root_mean_squared_error: 3180.1370 - lr: 4.0000e-04\n",
            "Epoch 4/100\n",
            "2062/2062 [==============================] - 8s 4ms/step - loss: 7977762.0000 - root_mean_squared_error: 2824.4932 - val_loss: 9333844.0000 - val_root_mean_squared_error: 3055.1340 - lr: 4.0000e-04\n",
            "Epoch 5/100\n",
            "2062/2062 [==============================] - 7s 4ms/step - loss: 7401134.0000 - root_mean_squared_error: 2720.5024 - val_loss: 8432304.0000 - val_root_mean_squared_error: 2903.8428 - lr: 4.0000e-04\n",
            "Epoch 6/100\n",
            "2062/2062 [==============================] - 7s 4ms/step - loss: 6777879.5000 - root_mean_squared_error: 2603.4360 - val_loss: 7509811.5000 - val_root_mean_squared_error: 2740.4036 - lr: 4.0000e-04\n",
            "Epoch 7/100\n",
            "2062/2062 [==============================] - 8s 4ms/step - loss: 6167810.0000 - root_mean_squared_error: 2483.5076 - val_loss: 6646786.0000 - val_root_mean_squared_error: 2578.1362 - lr: 4.0000e-04\n",
            "Epoch 8/100\n",
            "2062/2062 [==============================] - 7s 3ms/step - loss: 5607527.0000 - root_mean_squared_error: 2368.0217 - val_loss: 5873073.0000 - val_root_mean_squared_error: 2423.4424 - lr: 4.0000e-04\n",
            "Epoch 9/100\n",
            "2062/2062 [==============================] - 10s 5ms/step - loss: 5115197.5000 - root_mean_squared_error: 2261.6802 - val_loss: 5225081.0000 - val_root_mean_squared_error: 2285.8438 - lr: 4.0000e-04\n",
            "Epoch 10/100\n",
            "2062/2062 [==============================] - 8s 4ms/step - loss: 4685930.5000 - root_mean_squared_error: 2164.7009 - val_loss: 4671010.0000 - val_root_mean_squared_error: 2161.2520 - lr: 4.0000e-04\n",
            "Epoch 11/100\n",
            "2062/2062 [==============================] - 7s 3ms/step - loss: 4309250.0000 - root_mean_squared_error: 2075.8733 - val_loss: 4206586.5000 - val_root_mean_squared_error: 2050.9963 - lr: 4.0000e-04\n",
            "Epoch 12/100\n",
            "2062/2062 [==============================] - 8s 4ms/step - loss: 3985115.5000 - root_mean_squared_error: 1996.2754 - val_loss: 3820163.5000 - val_root_mean_squared_error: 1954.5238 - lr: 4.0000e-04\n",
            "Epoch 13/100\n",
            "2062/2062 [==============================] - 8s 4ms/step - loss: 3713366.7500 - root_mean_squared_error: 1927.0098 - val_loss: 3514396.7500 - val_root_mean_squared_error: 1874.6724 - lr: 4.0000e-04\n",
            "Epoch 14/100\n",
            "2062/2062 [==============================] - 7s 3ms/step - loss: 3477930.5000 - root_mean_squared_error: 1864.9210 - val_loss: 3260420.5000 - val_root_mean_squared_error: 1805.6635 - lr: 4.0000e-04\n",
            "Epoch 15/100\n",
            "2062/2062 [==============================] - 8s 4ms/step - loss: 3281269.2500 - root_mean_squared_error: 1811.4274 - val_loss: 3056385.2500 - val_root_mean_squared_error: 1748.2520 - lr: 4.0000e-04\n",
            "Epoch 16/100\n",
            "2062/2062 [==============================] - 7s 3ms/step - loss: 3123533.5000 - root_mean_squared_error: 1767.3521 - val_loss: 2884905.7500 - val_root_mean_squared_error: 1698.5010 - lr: 4.0000e-04\n",
            "Epoch 17/100\n",
            "2062/2062 [==============================] - 8s 4ms/step - loss: 2989625.0000 - root_mean_squared_error: 1729.0532 - val_loss: 2732054.0000 - val_root_mean_squared_error: 1652.8926 - lr: 4.0000e-04\n",
            "Epoch 18/100\n",
            "2062/2062 [==============================] - 7s 4ms/step - loss: 2873393.7500 - root_mean_squared_error: 1695.1088 - val_loss: 2591401.0000 - val_root_mean_squared_error: 1609.7828 - lr: 4.0000e-04\n",
            "Epoch 19/100\n",
            "2062/2062 [==============================] - 7s 3ms/step - loss: 2766060.7500 - root_mean_squared_error: 1663.1478 - val_loss: 2471575.2500 - val_root_mean_squared_error: 1572.1244 - lr: 4.0000e-04\n",
            "Epoch 20/100\n",
            "2062/2062 [==============================] - 8s 4ms/step - loss: 2667458.0000 - root_mean_squared_error: 1633.2355 - val_loss: 2357756.5000 - val_root_mean_squared_error: 1535.4988 - lr: 4.0000e-04\n",
            "Epoch 21/100\n",
            "2062/2062 [==============================] - 8s 4ms/step - loss: 2580736.2500 - root_mean_squared_error: 1606.4670 - val_loss: 2261343.2500 - val_root_mean_squared_error: 1503.7764 - lr: 4.0000e-04\n",
            "Epoch 22/100\n",
            "2062/2062 [==============================] - 7s 3ms/step - loss: 2501074.2500 - root_mean_squared_error: 1581.4785 - val_loss: 2185671.2500 - val_root_mean_squared_error: 1478.4016 - lr: 4.0000e-04\n",
            "Epoch 23/100\n",
            "2062/2062 [==============================] - 8s 4ms/step - loss: 2427440.5000 - root_mean_squared_error: 1558.0245 - val_loss: 2111404.2500 - val_root_mean_squared_error: 1453.0671 - lr: 4.0000e-04\n",
            "Epoch 24/100\n",
            "2062/2062 [==============================] - 8s 4ms/step - loss: 2356464.5000 - root_mean_squared_error: 1535.0780 - val_loss: 2046738.7500 - val_root_mean_squared_error: 1430.6428 - lr: 4.0000e-04\n",
            "Epoch 25/100\n",
            "2062/2062 [==============================] - 7s 3ms/step - loss: 2286212.5000 - root_mean_squared_error: 1512.0227 - val_loss: 1982019.2500 - val_root_mean_squared_error: 1407.8420 - lr: 4.0000e-04\n",
            "Epoch 26/100\n",
            "2062/2062 [==============================] - 8s 4ms/step - loss: 2221447.2500 - root_mean_squared_error: 1490.4520 - val_loss: 1927570.7500 - val_root_mean_squared_error: 1388.3698 - lr: 4.0000e-04\n",
            "Epoch 27/100\n",
            "2062/2062 [==============================] - 7s 4ms/step - loss: 2159955.7500 - root_mean_squared_error: 1469.6788 - val_loss: 1884332.5000 - val_root_mean_squared_error: 1372.7098 - lr: 4.0000e-04\n",
            "Epoch 28/100\n",
            "2062/2062 [==============================] - 7s 3ms/step - loss: 2094401.5000 - root_mean_squared_error: 1447.2047 - val_loss: 1841161.1250 - val_root_mean_squared_error: 1356.8939 - lr: 4.0000e-04\n",
            "Epoch 29/100\n",
            "2062/2062 [==============================] - 8s 4ms/step - loss: 2040810.0000 - root_mean_squared_error: 1428.5692 - val_loss: 1805000.3750 - val_root_mean_squared_error: 1343.5029 - lr: 4.0000e-04\n",
            "Epoch 30/100\n",
            "2062/2062 [==============================] - 7s 3ms/step - loss: 1986140.2500 - root_mean_squared_error: 1409.3048 - val_loss: 1777061.5000 - val_root_mean_squared_error: 1333.0647 - lr: 4.0000e-04\n",
            "Epoch 31/100\n",
            "2062/2062 [==============================] - 8s 4ms/step - loss: 1941566.7500 - root_mean_squared_error: 1393.4011 - val_loss: 1748561.3750 - val_root_mean_squared_error: 1322.3318 - lr: 4.0000e-04\n",
            "Epoch 32/100\n",
            "2062/2062 [==============================] - 8s 4ms/step - loss: 1893067.2500 - root_mean_squared_error: 1375.8878 - val_loss: 1720894.6250 - val_root_mean_squared_error: 1311.8287 - lr: 4.0000e-04\n",
            "Epoch 33/100\n",
            "2062/2062 [==============================] - 7s 3ms/step - loss: 1848166.2500 - root_mean_squared_error: 1359.4728 - val_loss: 1687315.5000 - val_root_mean_squared_error: 1298.9672 - lr: 4.0000e-04\n",
            "Epoch 34/100\n",
            "2062/2062 [==============================] - 8s 4ms/step - loss: 1808918.5000 - root_mean_squared_error: 1344.9603 - val_loss: 1663640.3750 - val_root_mean_squared_error: 1289.8218 - lr: 4.0000e-04\n",
            "Epoch 35/100\n",
            "2062/2062 [==============================] - 8s 4ms/step - loss: 1763904.5000 - root_mean_squared_error: 1328.1206 - val_loss: 1640743.8750 - val_root_mean_squared_error: 1280.9153 - lr: 4.0000e-04\n",
            "Epoch 36/100\n",
            "2062/2062 [==============================] - 8s 4ms/step - loss: 1735815.6250 - root_mean_squared_error: 1317.5035 - val_loss: 1619883.8750 - val_root_mean_squared_error: 1272.7466 - lr: 4.0000e-04\n",
            "Epoch 37/100\n",
            "2062/2062 [==============================] - 7s 3ms/step - loss: 1703311.2500 - root_mean_squared_error: 1305.1097 - val_loss: 1592819.8750 - val_root_mean_squared_error: 1262.0697 - lr: 4.0000e-04\n",
            "Epoch 38/100\n",
            "2062/2062 [==============================] - 7s 3ms/step - loss: 1683206.3750 - root_mean_squared_error: 1297.3844 - val_loss: 1607535.5000 - val_root_mean_squared_error: 1267.8862 - lr: 4.0000e-04\n",
            "Epoch 39/100\n",
            "2062/2062 [==============================] - 8s 4ms/step - loss: 1655442.8750 - root_mean_squared_error: 1286.6401 - val_loss: 1575753.0000 - val_root_mean_squared_error: 1255.2899 - lr: 4.0000e-04\n",
            "Epoch 40/100\n",
            "2062/2062 [==============================] - 8s 4ms/step - loss: 1638528.2500 - root_mean_squared_error: 1280.0500 - val_loss: 1568631.1250 - val_root_mean_squared_error: 1252.4501 - lr: 4.0000e-04\n",
            "Epoch 41/100\n",
            "2062/2062 [==============================] - 8s 4ms/step - loss: 1623830.0000 - root_mean_squared_error: 1274.2959 - val_loss: 1543883.0000 - val_root_mean_squared_error: 1242.5309 - lr: 4.0000e-04\n",
            "Epoch 42/100\n",
            "2062/2062 [==============================] - 8s 4ms/step - loss: 1605297.0000 - root_mean_squared_error: 1267.0032 - val_loss: 1527006.0000 - val_root_mean_squared_error: 1235.7208 - lr: 4.0000e-04\n",
            "Epoch 43/100\n",
            "2062/2062 [==============================] - 8s 4ms/step - loss: 1589545.1250 - root_mean_squared_error: 1260.7716 - val_loss: 1508784.1250 - val_root_mean_squared_error: 1228.3257 - lr: 4.0000e-04\n",
            "Epoch 44/100\n",
            "2062/2062 [==============================] - 7s 3ms/step - loss: 1574332.1250 - root_mean_squared_error: 1254.7239 - val_loss: 1490217.7500 - val_root_mean_squared_error: 1220.7448 - lr: 4.0000e-04\n",
            "Epoch 45/100\n",
            "2062/2062 [==============================] - 8s 4ms/step - loss: 1560488.5000 - root_mean_squared_error: 1249.1951 - val_loss: 1471549.5000 - val_root_mean_squared_error: 1213.0745 - lr: 4.0000e-04\n",
            "Epoch 46/100\n",
            "2062/2062 [==============================] - 8s 4ms/step - loss: 1543240.8750 - root_mean_squared_error: 1242.2725 - val_loss: 1465588.5000 - val_root_mean_squared_error: 1210.6149 - lr: 4.0000e-04\n",
            "Epoch 47/100\n",
            "2062/2062 [==============================] - 7s 3ms/step - loss: 1528540.6250 - root_mean_squared_error: 1236.3416 - val_loss: 1456832.5000 - val_root_mean_squared_error: 1206.9932 - lr: 4.0000e-04\n",
            "Epoch 48/100\n",
            "2062/2062 [==============================] - 8s 4ms/step - loss: 1518617.3750 - root_mean_squared_error: 1232.3219 - val_loss: 1445668.2500 - val_root_mean_squared_error: 1202.3594 - lr: 4.0000e-04\n",
            "Epoch 49/100\n",
            "2062/2062 [==============================] - 8s 4ms/step - loss: 1506077.3750 - root_mean_squared_error: 1227.2235 - val_loss: 1432236.5000 - val_root_mean_squared_error: 1196.7609 - lr: 4.0000e-04\n",
            "Epoch 50/100\n",
            "2062/2062 [==============================] - 8s 4ms/step - loss: 1489030.5000 - root_mean_squared_error: 1220.2583 - val_loss: 1413892.3750 - val_root_mean_squared_error: 1189.0720 - lr: 4.0000e-04\n",
            "Epoch 51/100\n",
            "2062/2062 [==============================] - 7s 3ms/step - loss: 1474880.1250 - root_mean_squared_error: 1214.4464 - val_loss: 1392960.6250 - val_root_mean_squared_error: 1180.2375 - lr: 4.0000e-04\n",
            "Epoch 52/100\n",
            "2062/2062 [==============================] - 8s 4ms/step - loss: 1470192.6250 - root_mean_squared_error: 1212.5150 - val_loss: 1381145.8750 - val_root_mean_squared_error: 1175.2216 - lr: 4.0000e-04\n",
            "Epoch 53/100\n",
            "2062/2062 [==============================] - 7s 3ms/step - loss: 1458917.2500 - root_mean_squared_error: 1207.8564 - val_loss: 1356694.3750 - val_root_mean_squared_error: 1164.7722 - lr: 4.0000e-04\n",
            "Epoch 54/100\n",
            "2062/2062 [==============================] - 8s 4ms/step - loss: 1452264.1250 - root_mean_squared_error: 1205.0992 - val_loss: 1355680.3750 - val_root_mean_squared_error: 1164.3369 - lr: 4.0000e-04\n",
            "Epoch 55/100\n",
            "2062/2062 [==============================] - 8s 4ms/step - loss: 1443162.7500 - root_mean_squared_error: 1201.3170 - val_loss: 1355977.6250 - val_root_mean_squared_error: 1164.4645 - lr: 4.0000e-04\n",
            "Epoch 56/100\n",
            "2062/2062 [==============================] - 7s 3ms/step - loss: 1436954.3750 - root_mean_squared_error: 1198.7303 - val_loss: 1350715.5000 - val_root_mean_squared_error: 1162.2029 - lr: 4.0000e-04\n",
            "Epoch 57/100\n",
            "2062/2062 [==============================] - 8s 4ms/step - loss: 1428446.3750 - root_mean_squared_error: 1195.1763 - val_loss: 1346472.5000 - val_root_mean_squared_error: 1160.3760 - lr: 4.0000e-04\n",
            "Epoch 58/100\n",
            "2062/2062 [==============================] - 7s 3ms/step - loss: 1426216.8750 - root_mean_squared_error: 1194.2432 - val_loss: 1321742.5000 - val_root_mean_squared_error: 1149.6707 - lr: 4.0000e-04\n",
            "Epoch 59/100\n",
            "2062/2062 [==============================] - 8s 4ms/step - loss: 1416653.8750 - root_mean_squared_error: 1190.2327 - val_loss: 1316946.2500 - val_root_mean_squared_error: 1147.5828 - lr: 4.0000e-04\n",
            "Epoch 60/100\n",
            "2062/2062 [==============================] - 8s 4ms/step - loss: 1411061.5000 - root_mean_squared_error: 1187.8811 - val_loss: 1310387.5000 - val_root_mean_squared_error: 1144.7216 - lr: 4.0000e-04\n",
            "Epoch 61/100\n",
            "2062/2062 [==============================] - 7s 3ms/step - loss: 1406180.5000 - root_mean_squared_error: 1185.8248 - val_loss: 1286887.2500 - val_root_mean_squared_error: 1134.4105 - lr: 4.0000e-04\n",
            "Epoch 62/100\n",
            "2062/2062 [==============================] - 7s 3ms/step - loss: 1402729.3750 - root_mean_squared_error: 1184.3688 - val_loss: 1298022.2500 - val_root_mean_squared_error: 1139.3077 - lr: 4.0000e-04\n",
            "Epoch 63/100\n",
            "2062/2062 [==============================] - 8s 4ms/step - loss: 1396979.0000 - root_mean_squared_error: 1181.9386 - val_loss: 1280868.0000 - val_root_mean_squared_error: 1131.7544 - lr: 4.0000e-04\n",
            "Epoch 64/100\n",
            "2062/2062 [==============================] - 7s 3ms/step - loss: 1386050.8750 - root_mean_squared_error: 1177.3066 - val_loss: 1287148.3750 - val_root_mean_squared_error: 1134.5256 - lr: 4.0000e-04\n",
            "Epoch 65/100\n",
            "2062/2062 [==============================] - 7s 3ms/step - loss: 1384085.0000 - root_mean_squared_error: 1176.4714 - val_loss: 1283507.5000 - val_root_mean_squared_error: 1132.9199 - lr: 4.0000e-04\n",
            "Epoch 66/100\n",
            "2062/2062 [==============================] - 7s 3ms/step - loss: 1380988.0000 - root_mean_squared_error: 1175.1544 - val_loss: 1270995.5000 - val_root_mean_squared_error: 1127.3844 - lr: 4.0000e-04\n",
            "Epoch 67/100\n",
            "2062/2062 [==============================] - 8s 4ms/step - loss: 1372378.0000 - root_mean_squared_error: 1171.4854 - val_loss: 1265905.2500 - val_root_mean_squared_error: 1125.1245 - lr: 4.0000e-04\n",
            "Epoch 68/100\n",
            "2062/2062 [==============================] - 8s 4ms/step - loss: 1367473.0000 - root_mean_squared_error: 1169.3900 - val_loss: 1254547.1250 - val_root_mean_squared_error: 1120.0657 - lr: 4.0000e-04\n",
            "Epoch 69/100\n",
            "2062/2062 [==============================] - 7s 3ms/step - loss: 1362415.2500 - root_mean_squared_error: 1167.2255 - val_loss: 1252149.3750 - val_root_mean_squared_error: 1118.9948 - lr: 4.0000e-04\n",
            "Epoch 70/100\n",
            "2062/2062 [==============================] - 7s 3ms/step - loss: 1358928.3750 - root_mean_squared_error: 1165.7308 - val_loss: 1241897.6250 - val_root_mean_squared_error: 1114.4047 - lr: 4.0000e-04\n",
            "Epoch 71/100\n",
            "2062/2062 [==============================] - 8s 4ms/step - loss: 1349801.3750 - root_mean_squared_error: 1161.8094 - val_loss: 1235698.5000 - val_root_mean_squared_error: 1111.6198 - lr: 4.0000e-04\n",
            "Epoch 72/100\n",
            "2062/2062 [==============================] - 7s 3ms/step - loss: 1347643.0000 - root_mean_squared_error: 1160.8802 - val_loss: 1236344.7500 - val_root_mean_squared_error: 1111.9104 - lr: 4.0000e-04\n",
            "Epoch 73/100\n",
            "2062/2062 [==============================] - 8s 4ms/step - loss: 1344644.8750 - root_mean_squared_error: 1159.5883 - val_loss: 1232833.6250 - val_root_mean_squared_error: 1110.3303 - lr: 4.0000e-04\n",
            "Epoch 74/100\n",
            "2062/2062 [==============================] - 8s 4ms/step - loss: 1338383.3750 - root_mean_squared_error: 1156.8851 - val_loss: 1228424.5000 - val_root_mean_squared_error: 1108.3431 - lr: 4.0000e-04\n",
            "Epoch 75/100\n",
            "2062/2062 [==============================] - 7s 3ms/step - loss: 1332617.7500 - root_mean_squared_error: 1154.3906 - val_loss: 1219851.8750 - val_root_mean_squared_error: 1104.4690 - lr: 4.0000e-04\n",
            "Epoch 76/100\n",
            "2062/2062 [==============================] - 7s 3ms/step - loss: 1326953.0000 - root_mean_squared_error: 1151.9344 - val_loss: 1216445.1250 - val_root_mean_squared_error: 1102.9257 - lr: 4.0000e-04\n",
            "Epoch 77/100\n",
            "2062/2062 [==============================] - 8s 4ms/step - loss: 1322618.5000 - root_mean_squared_error: 1150.0515 - val_loss: 1214605.6250 - val_root_mean_squared_error: 1102.0914 - lr: 4.0000e-04\n",
            "Epoch 78/100\n",
            "2062/2062 [==============================] - 7s 3ms/step - loss: 1320002.3750 - root_mean_squared_error: 1148.9136 - val_loss: 1209735.1250 - val_root_mean_squared_error: 1099.8795 - lr: 4.0000e-04\n",
            "Epoch 79/100\n",
            "2062/2062 [==============================] - 8s 4ms/step - loss: 1311612.8750 - root_mean_squared_error: 1145.2566 - val_loss: 1204722.6250 - val_root_mean_squared_error: 1097.5985 - lr: 4.0000e-04\n",
            "Epoch 80/100\n",
            "2062/2062 [==============================] - 8s 4ms/step - loss: 1306669.3750 - root_mean_squared_error: 1143.0964 - val_loss: 1191377.3750 - val_root_mean_squared_error: 1091.5023 - lr: 4.0000e-04\n",
            "Epoch 81/100\n",
            "2062/2062 [==============================] - 7s 3ms/step - loss: 1304672.3750 - root_mean_squared_error: 1142.2225 - val_loss: 1186866.7500 - val_root_mean_squared_error: 1089.4341 - lr: 4.0000e-04\n",
            "Epoch 82/100\n",
            "2062/2062 [==============================] - 8s 4ms/step - loss: 1308930.7500 - root_mean_squared_error: 1144.0851 - val_loss: 1181003.0000 - val_root_mean_squared_error: 1086.7396 - lr: 4.0000e-04\n",
            "Epoch 83/100\n",
            "2062/2062 [==============================] - 7s 3ms/step - loss: 1301794.2500 - root_mean_squared_error: 1140.9619 - val_loss: 1173644.6250 - val_root_mean_squared_error: 1083.3488 - lr: 4.0000e-04\n",
            "Epoch 84/100\n",
            "2062/2062 [==============================] - 8s 4ms/step - loss: 1295663.1250 - root_mean_squared_error: 1138.2720 - val_loss: 1170998.5000 - val_root_mean_squared_error: 1082.1268 - lr: 4.0000e-04\n",
            "Epoch 85/100\n",
            "2062/2062 [==============================] - 8s 4ms/step - loss: 1294397.7500 - root_mean_squared_error: 1137.7159 - val_loss: 1169259.6250 - val_root_mean_squared_error: 1081.3231 - lr: 4.0000e-04\n",
            "Epoch 86/100\n",
            "2062/2062 [==============================] - 7s 3ms/step - loss: 1287572.3750 - root_mean_squared_error: 1134.7124 - val_loss: 1165581.3750 - val_root_mean_squared_error: 1079.6210 - lr: 4.0000e-04\n",
            "Epoch 87/100\n",
            "2062/2062 [==============================] - 8s 4ms/step - loss: 1284311.3750 - root_mean_squared_error: 1133.2745 - val_loss: 1168943.6250 - val_root_mean_squared_error: 1081.1770 - lr: 4.0000e-04\n",
            "Epoch 88/100\n",
            "2062/2062 [==============================] - 8s 4ms/step - loss: 1282066.1250 - root_mean_squared_error: 1132.2836 - val_loss: 1165941.1250 - val_root_mean_squared_error: 1079.7875 - lr: 4.0000e-04\n",
            "Epoch 89/100\n",
            "2062/2062 [==============================] - 8s 4ms/step - loss: 1278958.7500 - root_mean_squared_error: 1130.9105 - val_loss: 1168381.8750 - val_root_mean_squared_error: 1080.9171 - lr: 4.0000e-04\n",
            "Epoch 90/100\n",
            "2062/2062 [==============================] - 7s 3ms/step - loss: 1278939.0000 - root_mean_squared_error: 1130.9019 - val_loss: 1159682.0000 - val_root_mean_squared_error: 1076.8854 - lr: 4.0000e-04\n",
            "Epoch 91/100\n",
            "2062/2062 [==============================] - 7s 3ms/step - loss: 1272508.6250 - root_mean_squared_error: 1128.0552 - val_loss: 1152290.1250 - val_root_mean_squared_error: 1073.4478 - lr: 4.0000e-04\n",
            "Epoch 92/100\n",
            "2062/2062 [==============================] - 8s 4ms/step - loss: 1272693.3750 - root_mean_squared_error: 1128.1371 - val_loss: 1154709.8750 - val_root_mean_squared_error: 1074.5742 - lr: 4.0000e-04\n",
            "Epoch 93/100\n",
            "2062/2062 [==============================] - 7s 3ms/step - loss: 1269844.5000 - root_mean_squared_error: 1126.8738 - val_loss: 1150888.8750 - val_root_mean_squared_error: 1072.7949 - lr: 4.0000e-04\n",
            "Epoch 94/100\n",
            "2062/2062 [==============================] - 8s 4ms/step - loss: 1262586.8750 - root_mean_squared_error: 1123.6489 - val_loss: 1145191.5000 - val_root_mean_squared_error: 1070.1362 - lr: 4.0000e-04\n",
            "Epoch 95/100\n",
            "2062/2062 [==============================] - 8s 4ms/step - loss: 1268509.5000 - root_mean_squared_error: 1126.2812 - val_loss: 1142856.5000 - val_root_mean_squared_error: 1069.0447 - lr: 4.0000e-04\n",
            "Epoch 96/100\n",
            "2062/2062 [==============================] - 8s 4ms/step - loss: 1265765.0000 - root_mean_squared_error: 1125.0621 - val_loss: 1140215.8750 - val_root_mean_squared_error: 1067.8090 - lr: 4.0000e-04\n",
            "Epoch 97/100\n",
            "2062/2062 [==============================] - 7s 3ms/step - loss: 1264171.3750 - root_mean_squared_error: 1124.3538 - val_loss: 1137935.6250 - val_root_mean_squared_error: 1066.7406 - lr: 4.0000e-04\n",
            "Epoch 98/100\n",
            "2062/2062 [==============================] - 8s 4ms/step - loss: 1258172.7500 - root_mean_squared_error: 1121.6830 - val_loss: 1136290.3750 - val_root_mean_squared_error: 1065.9692 - lr: 4.0000e-04\n",
            "Epoch 99/100\n",
            "2062/2062 [==============================] - 7s 3ms/step - loss: 1257335.5000 - root_mean_squared_error: 1121.3097 - val_loss: 1131113.5000 - val_root_mean_squared_error: 1063.5382 - lr: 4.0000e-04\n",
            "Epoch 100/100\n",
            "2062/2062 [==============================] - 7s 3ms/step - loss: 1256337.3750 - root_mean_squared_error: 1120.8645 - val_loss: 1136369.2500 - val_root_mean_squared_error: 1066.0062 - lr: 4.0000e-04\n"
          ]
        }
      ]
    },
    {
      "cell_type": "code",
      "source": [
        "plt.plot(history.history['loss'])\n",
        "plt.plot(history.history['val_loss'])\n",
        "plt.title('model loss')\n",
        "plt.ylabel('loss')\n",
        "plt.xlabel('epoch')\n",
        "plt.legend(['train', 'val_loss'])\n",
        "plt.show()"
      ],
      "metadata": {
        "id": "z0JyxESCMzaN",
        "colab": {
          "base_uri": "https://localhost:8080/",
          "height": 472
        },
        "outputId": "556f826e-0ca1-4eb4-8a92-955ad0f86adb"
      },
      "execution_count": null,
      "outputs": [
        {
          "output_type": "display_data",
          "data": {
            "text/plain": [
              "<Figure size 640x480 with 1 Axes>"
            ],
            "image/png": "[encoded data removed]"
          },
          "metadata": {}
        }
      ]
    },
    {
      "cell_type": "code",
      "source": [
        "plt.plot(history.history['root_mean_squared_error'])\n",
        "plt.plot(history.history['val_root_mean_squared_error'])\n",
        "plt.title('model performance')\n",
        "plt.ylabel('rmse')\n",
        "plt.xlabel('epoch')\n",
        "plt.legend(['train', 'val'])\n",
        "plt.show()"
      ],
      "metadata": {
        "colab": {
          "base_uri": "https://localhost:8080/",
          "height": 472
        },
        "id": "LZlNIDkAJRVD",
        "outputId": "7634ba56-8db1-4a44-8de6-b9ee196953fb"
      },
      "execution_count": null,
      "outputs": [
        {
          "output_type": "display_data",
          "data": {
            "text/plain": [
              "<Figure size 640x480 with 1 Axes>"
            ],
            "image/png": "[encoded data removed]"
          },
          "metadata": {}
        }
      ]
    },
    {
      "cell_type": "code",
      "source": [],
      "metadata": {
        "id": "S8MHXdeOL4UQ"
      },
      "execution_count": null,
      "outputs": []
    }
  ]
}