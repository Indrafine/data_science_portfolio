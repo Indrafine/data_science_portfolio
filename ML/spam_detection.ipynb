{
 "cells": [
  {
   "cell_type": "code",
   "execution_count": 1,
   "id": "262116d6",
   "metadata": {
    "_cell_guid": "b1076dfc-b9ad-4769-8c92-a6c4dae69d19",
    "_uuid": "8f2839f25d086af736a60e9eeb907d3b93b6e0e5",
    "execution": {
     "iopub.execute_input": "2022-06-12T15:27:14.566419Z",
     "iopub.status.busy": "2022-06-12T15:27:14.565489Z",
     "iopub.status.idle": "2022-06-12T15:27:16.619023Z",
     "shell.execute_reply": "2022-06-12T15:27:16.618085Z"
    },
    "papermill": {
     "duration": 2.068975,
     "end_time": "2022-06-12T15:27:16.623137",
     "exception": false,
     "start_time": "2022-06-12T15:27:14.554162",
     "status": "completed"
    },
    "tags": []
   },
   "outputs": [
    {
     "name": "stdout",
     "output_type": "stream",
     "text": [
      "[nltk_data] Downloading package punkt to /usr/share/nltk_data...\n",
      "[nltk_data]   Package punkt is already up-to-date!\n",
      "[nltk_data] Downloading package wordnet to /usr/share/nltk_data...\n",
      "[nltk_data]   Package wordnet is already up-to-date!\n",
      "[nltk_data] Downloading package stopwords to /usr/share/nltk_data...\n",
      "[nltk_data]   Package stopwords is already up-to-date!\n"
     ]
    },
    {
     "data": {
      "text/plain": [
       "True"
      ]
     },
     "execution_count": 1,
     "metadata": {},
     "output_type": "execute_result"
    }
   ],
   "source": [
    "\n",
    "import numpy as np # linear algebra\n",
    "import pandas as pd # data processing, CSV file I/O (e.g. pd.read_csv)\n",
    "import nltk\n",
    "from nltk.corpus import stopwords\n",
    "\n",
    "nltk.download('punkt')\n",
    "nltk.download('wordnet')\n",
    "nltk.download('stopwords')\n",
    "\n"
   ]
  },
  {
   "cell_type": "code",
   "execution_count": 2,
   "id": "b28acb2d",
   "metadata": {
    "execution": {
     "iopub.execute_input": "2022-06-12T15:27:16.639850Z",
     "iopub.status.busy": "2022-06-12T15:27:16.638817Z",
     "iopub.status.idle": "2022-06-12T15:27:16.689509Z",
     "shell.execute_reply": "2022-06-12T15:27:16.688749Z"
    },
    "papermill": {
     "duration": 0.060794,
     "end_time": "2022-06-12T15:27:16.691674",
     "exception": false,
     "start_time": "2022-06-12T15:27:16.630880",
     "status": "completed"
    },
    "tags": []
   },
   "outputs": [
    {
     "data": {
      "text/html": [
       "<div>\n",
       "<style scoped>\n",
       "    .dataframe tbody tr th:only-of-type {\n",
       "        vertical-align: middle;\n",
       "    }\n",
       "\n",
       "    .dataframe tbody tr th {\n",
       "        vertical-align: top;\n",
       "    }\n",
       "\n",
       "    .dataframe thead th {\n",
       "        text-align: right;\n",
       "    }\n",
       "</style>\n",
       "<table border=\"1\" class=\"dataframe\">\n",
       "  <thead>\n",
       "    <tr style=\"text-align: right;\">\n",
       "      <th></th>\n",
       "      <th>v1</th>\n",
       "      <th>v2</th>\n",
       "      <th>Unnamed: 2</th>\n",
       "      <th>Unnamed: 3</th>\n",
       "      <th>Unnamed: 4</th>\n",
       "    </tr>\n",
       "  </thead>\n",
       "  <tbody>\n",
       "    <tr>\n",
       "      <th>0</th>\n",
       "      <td>ham</td>\n",
       "      <td>Go until jurong point, crazy.. Available only ...</td>\n",
       "      <td>NaN</td>\n",
       "      <td>NaN</td>\n",
       "      <td>NaN</td>\n",
       "    </tr>\n",
       "    <tr>\n",
       "      <th>1</th>\n",
       "      <td>ham</td>\n",
       "      <td>Ok lar... Joking wif u oni...</td>\n",
       "      <td>NaN</td>\n",
       "      <td>NaN</td>\n",
       "      <td>NaN</td>\n",
       "    </tr>\n",
       "    <tr>\n",
       "      <th>2</th>\n",
       "      <td>spam</td>\n",
       "      <td>Free entry in 2 a wkly comp to win FA Cup fina...</td>\n",
       "      <td>NaN</td>\n",
       "      <td>NaN</td>\n",
       "      <td>NaN</td>\n",
       "    </tr>\n",
       "    <tr>\n",
       "      <th>3</th>\n",
       "      <td>ham</td>\n",
       "      <td>U dun say so early hor... U c already then say...</td>\n",
       "      <td>NaN</td>\n",
       "      <td>NaN</td>\n",
       "      <td>NaN</td>\n",
       "    </tr>\n",
       "    <tr>\n",
       "      <th>4</th>\n",
       "      <td>ham</td>\n",
       "      <td>Nah I don't think he goes to usf, he lives aro...</td>\n",
       "      <td>NaN</td>\n",
       "      <td>NaN</td>\n",
       "      <td>NaN</td>\n",
       "    </tr>\n",
       "  </tbody>\n",
       "</table>\n",
       "</div>"
      ],
      "text/plain": [
       "     v1                                                 v2 Unnamed: 2  \\\n",
       "0   ham  Go until jurong point, crazy.. Available only ...        NaN   \n",
       "1   ham                      Ok lar... Joking wif u oni...        NaN   \n",
       "2  spam  Free entry in 2 a wkly comp to win FA Cup fina...        NaN   \n",
       "3   ham  U dun say so early hor... U c already then say...        NaN   \n",
       "4   ham  Nah I don't think he goes to usf, he lives aro...        NaN   \n",
       "\n",
       "  Unnamed: 3 Unnamed: 4  \n",
       "0        NaN        NaN  \n",
       "1        NaN        NaN  \n",
       "2        NaN        NaN  \n",
       "3        NaN        NaN  \n",
       "4        NaN        NaN  "
      ]
     },
     "execution_count": 2,
     "metadata": {},
     "output_type": "execute_result"
    }
   ],
   "source": [
    "data = pd.read_csv(\"/kaggle/input/sms-spam-collection-dataset/spam.csv\",encoding = \"ISO-8859-1\")\n",
    "data.head()"
   ]
  },
  {
   "cell_type": "code",
   "execution_count": 3,
   "id": "61cd7787",
   "metadata": {
    "execution": {
     "iopub.execute_input": "2022-06-12T15:27:16.707804Z",
     "iopub.status.busy": "2022-06-12T15:27:16.706883Z",
     "iopub.status.idle": "2022-06-12T15:27:16.713680Z",
     "shell.execute_reply": "2022-06-12T15:27:16.712908Z"
    },
    "papermill": {
     "duration": 0.016881,
     "end_time": "2022-06-12T15:27:16.715641",
     "exception": false,
     "start_time": "2022-06-12T15:27:16.698760",
     "status": "completed"
    },
    "tags": []
   },
   "outputs": [
    {
     "data": {
      "text/plain": [
       "Index(['Unnamed: 2', 'Unnamed: 3', 'Unnamed: 4'], dtype='object')"
      ]
     },
     "execution_count": 3,
     "metadata": {},
     "output_type": "execute_result"
    }
   ],
   "source": [
    "#excluding the NAN cols\n",
    "cols = data.columns[-3:]\n",
    "cols"
   ]
  },
  {
   "cell_type": "code",
   "execution_count": 4,
   "id": "7824aeb9",
   "metadata": {
    "execution": {
     "iopub.execute_input": "2022-06-12T15:27:16.732854Z",
     "iopub.status.busy": "2022-06-12T15:27:16.732106Z",
     "iopub.status.idle": "2022-06-12T15:27:16.742694Z",
     "shell.execute_reply": "2022-06-12T15:27:16.741922Z"
    },
    "papermill": {
     "duration": 0.021824,
     "end_time": "2022-06-12T15:27:16.745188",
     "exception": false,
     "start_time": "2022-06-12T15:27:16.723364",
     "status": "completed"
    },
    "tags": []
   },
   "outputs": [],
   "source": [
    "data.drop(cols,axis =1, inplace = True)\n"
   ]
  },
  {
   "cell_type": "code",
   "execution_count": 5,
   "id": "ead8d4b4",
   "metadata": {
    "execution": {
     "iopub.execute_input": "2022-06-12T15:27:16.761459Z",
     "iopub.status.busy": "2022-06-12T15:27:16.760735Z",
     "iopub.status.idle": "2022-06-12T15:27:16.770698Z",
     "shell.execute_reply": "2022-06-12T15:27:16.769715Z"
    },
    "papermill": {
     "duration": 0.020377,
     "end_time": "2022-06-12T15:27:16.772687",
     "exception": false,
     "start_time": "2022-06-12T15:27:16.752310",
     "status": "completed"
    },
    "tags": []
   },
   "outputs": [
    {
     "data": {
      "text/html": [
       "<div>\n",
       "<style scoped>\n",
       "    .dataframe tbody tr th:only-of-type {\n",
       "        vertical-align: middle;\n",
       "    }\n",
       "\n",
       "    .dataframe tbody tr th {\n",
       "        vertical-align: top;\n",
       "    }\n",
       "\n",
       "    .dataframe thead th {\n",
       "        text-align: right;\n",
       "    }\n",
       "</style>\n",
       "<table border=\"1\" class=\"dataframe\">\n",
       "  <thead>\n",
       "    <tr style=\"text-align: right;\">\n",
       "      <th></th>\n",
       "      <th>v1</th>\n",
       "      <th>v2</th>\n",
       "    </tr>\n",
       "  </thead>\n",
       "  <tbody>\n",
       "    <tr>\n",
       "      <th>0</th>\n",
       "      <td>ham</td>\n",
       "      <td>Go until jurong point, crazy.. Available only ...</td>\n",
       "    </tr>\n",
       "    <tr>\n",
       "      <th>1</th>\n",
       "      <td>ham</td>\n",
       "      <td>Ok lar... Joking wif u oni...</td>\n",
       "    </tr>\n",
       "    <tr>\n",
       "      <th>2</th>\n",
       "      <td>spam</td>\n",
       "      <td>Free entry in 2 a wkly comp to win FA Cup fina...</td>\n",
       "    </tr>\n",
       "    <tr>\n",
       "      <th>3</th>\n",
       "      <td>ham</td>\n",
       "      <td>U dun say so early hor... U c already then say...</td>\n",
       "    </tr>\n",
       "    <tr>\n",
       "      <th>4</th>\n",
       "      <td>ham</td>\n",
       "      <td>Nah I don't think he goes to usf, he lives aro...</td>\n",
       "    </tr>\n",
       "  </tbody>\n",
       "</table>\n",
       "</div>"
      ],
      "text/plain": [
       "     v1                                                 v2\n",
       "0   ham  Go until jurong point, crazy.. Available only ...\n",
       "1   ham                      Ok lar... Joking wif u oni...\n",
       "2  spam  Free entry in 2 a wkly comp to win FA Cup fina...\n",
       "3   ham  U dun say so early hor... U c already then say...\n",
       "4   ham  Nah I don't think he goes to usf, he lives aro..."
      ]
     },
     "execution_count": 5,
     "metadata": {},
     "output_type": "execute_result"
    }
   ],
   "source": [
    "data.head()"
   ]
  },
  {
   "cell_type": "code",
   "execution_count": 6,
   "id": "33c04467",
   "metadata": {
    "execution": {
     "iopub.execute_input": "2022-06-12T15:27:16.789882Z",
     "iopub.status.busy": "2022-06-12T15:27:16.789176Z",
     "iopub.status.idle": "2022-06-12T15:27:16.799791Z",
     "shell.execute_reply": "2022-06-12T15:27:16.799079Z"
    },
    "papermill": {
     "duration": 0.021744,
     "end_time": "2022-06-12T15:27:16.802028",
     "exception": false,
     "start_time": "2022-06-12T15:27:16.780284",
     "status": "completed"
    },
    "tags": []
   },
   "outputs": [
    {
     "data": {
      "text/html": [
       "<div>\n",
       "<style scoped>\n",
       "    .dataframe tbody tr th:only-of-type {\n",
       "        vertical-align: middle;\n",
       "    }\n",
       "\n",
       "    .dataframe tbody tr th {\n",
       "        vertical-align: top;\n",
       "    }\n",
       "\n",
       "    .dataframe thead th {\n",
       "        text-align: right;\n",
       "    }\n",
       "</style>\n",
       "<table border=\"1\" class=\"dataframe\">\n",
       "  <thead>\n",
       "    <tr style=\"text-align: right;\">\n",
       "      <th></th>\n",
       "      <th>Conclusion</th>\n",
       "      <th>Messgae</th>\n",
       "    </tr>\n",
       "  </thead>\n",
       "  <tbody>\n",
       "    <tr>\n",
       "      <th>0</th>\n",
       "      <td>ham</td>\n",
       "      <td>Go until jurong point, crazy.. Available only ...</td>\n",
       "    </tr>\n",
       "    <tr>\n",
       "      <th>1</th>\n",
       "      <td>ham</td>\n",
       "      <td>Ok lar... Joking wif u oni...</td>\n",
       "    </tr>\n",
       "    <tr>\n",
       "      <th>2</th>\n",
       "      <td>spam</td>\n",
       "      <td>Free entry in 2 a wkly comp to win FA Cup fina...</td>\n",
       "    </tr>\n",
       "    <tr>\n",
       "      <th>3</th>\n",
       "      <td>ham</td>\n",
       "      <td>U dun say so early hor... U c already then say...</td>\n",
       "    </tr>\n",
       "    <tr>\n",
       "      <th>4</th>\n",
       "      <td>ham</td>\n",
       "      <td>Nah I don't think he goes to usf, he lives aro...</td>\n",
       "    </tr>\n",
       "  </tbody>\n",
       "</table>\n",
       "</div>"
      ],
      "text/plain": [
       "  Conclusion                                            Messgae\n",
       "0        ham  Go until jurong point, crazy.. Available only ...\n",
       "1        ham                      Ok lar... Joking wif u oni...\n",
       "2       spam  Free entry in 2 a wkly comp to win FA Cup fina...\n",
       "3        ham  U dun say so early hor... U c already then say...\n",
       "4        ham  Nah I don't think he goes to usf, he lives aro..."
      ]
     },
     "execution_count": 6,
     "metadata": {},
     "output_type": "execute_result"
    }
   ],
   "source": [
    "data.columns = ['Conclusion','Messgae']\n",
    "data.head()"
   ]
  },
  {
   "cell_type": "code",
   "execution_count": 7,
   "id": "5eda697e",
   "metadata": {
    "execution": {
     "iopub.execute_input": "2022-06-12T15:27:16.819394Z",
     "iopub.status.busy": "2022-06-12T15:27:16.818664Z",
     "iopub.status.idle": "2022-06-12T15:27:16.829650Z",
     "shell.execute_reply": "2022-06-12T15:27:16.828899Z"
    },
    "papermill": {
     "duration": 0.022177,
     "end_time": "2022-06-12T15:27:16.831887",
     "exception": false,
     "start_time": "2022-06-12T15:27:16.809710",
     "status": "completed"
    },
    "tags": []
   },
   "outputs": [],
   "source": [
    "tokenizer = nltk.tokenize.TreebankWordTokenizer()\n",
    "lemmatizer = nltk.stem.WordNetLemmatizer()\n",
    "stopwords = list(stopwords.words('english'))\n",
    "\n",
    "def TransformText(text):\n",
    "    #text to lower case\n",
    "    text= text.lower()\n",
    "    #convert to tokens\n",
    "    tokens= tokenizer.tokenize(text)\n",
    "    #lemmatize tokens to have meaning of the words\n",
    "    tokens = [lemmatizer.lemmatize(token) for token in tokens]\n",
    "    #remove words with word size less than 2\n",
    "    tokens = [token for token in tokens if len(token) > 2]\n",
    "    #remove stop words\n",
    "    tokens = [token for token in tokens if token not in stopwords]\n",
    "    return ' '.join(tokens)"
   ]
  },
  {
   "cell_type": "code",
   "execution_count": 8,
   "id": "688b2252",
   "metadata": {
    "execution": {
     "iopub.execute_input": "2022-06-12T15:27:16.848883Z",
     "iopub.status.busy": "2022-06-12T15:27:16.848164Z",
     "iopub.status.idle": "2022-06-12T15:27:20.600138Z",
     "shell.execute_reply": "2022-06-12T15:27:20.599096Z"
    },
    "papermill": {
     "duration": 3.763688,
     "end_time": "2022-06-12T15:27:20.603074",
     "exception": false,
     "start_time": "2022-06-12T15:27:16.839386",
     "status": "completed"
    },
    "tags": []
   },
   "outputs": [],
   "source": [
    "data['Message_processed']=data['Messgae'].apply(lambda x : TransformText(x))"
   ]
  },
  {
   "cell_type": "code",
   "execution_count": 9,
   "id": "40ec057e",
   "metadata": {
    "execution": {
     "iopub.execute_input": "2022-06-12T15:27:20.620014Z",
     "iopub.status.busy": "2022-06-12T15:27:20.619604Z",
     "iopub.status.idle": "2022-06-12T15:27:20.630639Z",
     "shell.execute_reply": "2022-06-12T15:27:20.629575Z"
    },
    "papermill": {
     "duration": 0.023653,
     "end_time": "2022-06-12T15:27:20.634184",
     "exception": false,
     "start_time": "2022-06-12T15:27:20.610531",
     "status": "completed"
    },
    "tags": []
   },
   "outputs": [
    {
     "data": {
      "text/html": [
       "<div>\n",
       "<style scoped>\n",
       "    .dataframe tbody tr th:only-of-type {\n",
       "        vertical-align: middle;\n",
       "    }\n",
       "\n",
       "    .dataframe tbody tr th {\n",
       "        vertical-align: top;\n",
       "    }\n",
       "\n",
       "    .dataframe thead th {\n",
       "        text-align: right;\n",
       "    }\n",
       "</style>\n",
       "<table border=\"1\" class=\"dataframe\">\n",
       "  <thead>\n",
       "    <tr style=\"text-align: right;\">\n",
       "      <th></th>\n",
       "      <th>Conclusion</th>\n",
       "      <th>Messgae</th>\n",
       "      <th>Message_processed</th>\n",
       "    </tr>\n",
       "  </thead>\n",
       "  <tbody>\n",
       "    <tr>\n",
       "      <th>0</th>\n",
       "      <td>ham</td>\n",
       "      <td>Go until jurong point, crazy.. Available only ...</td>\n",
       "      <td>jurong point crazy.. available bugis great wor...</td>\n",
       "    </tr>\n",
       "    <tr>\n",
       "      <th>1</th>\n",
       "      <td>ham</td>\n",
       "      <td>Ok lar... Joking wif u oni...</td>\n",
       "      <td>lar ... joking wif oni ...</td>\n",
       "    </tr>\n",
       "    <tr>\n",
       "      <th>2</th>\n",
       "      <td>spam</td>\n",
       "      <td>Free entry in 2 a wkly comp to win FA Cup fina...</td>\n",
       "      <td>free entry wkly comp win cup final tkts 21st m...</td>\n",
       "    </tr>\n",
       "    <tr>\n",
       "      <th>3</th>\n",
       "      <td>ham</td>\n",
       "      <td>U dun say so early hor... U c already then say...</td>\n",
       "      <td>dun say early hor ... already say ...</td>\n",
       "    </tr>\n",
       "    <tr>\n",
       "      <th>4</th>\n",
       "      <td>ham</td>\n",
       "      <td>Nah I don't think he goes to usf, he lives aro...</td>\n",
       "      <td>nah n't think usf life around though</td>\n",
       "    </tr>\n",
       "  </tbody>\n",
       "</table>\n",
       "</div>"
      ],
      "text/plain": [
       "  Conclusion                                            Messgae  \\\n",
       "0        ham  Go until jurong point, crazy.. Available only ...   \n",
       "1        ham                      Ok lar... Joking wif u oni...   \n",
       "2       spam  Free entry in 2 a wkly comp to win FA Cup fina...   \n",
       "3        ham  U dun say so early hor... U c already then say...   \n",
       "4        ham  Nah I don't think he goes to usf, he lives aro...   \n",
       "\n",
       "                                   Message_processed  \n",
       "0  jurong point crazy.. available bugis great wor...  \n",
       "1                         lar ... joking wif oni ...  \n",
       "2  free entry wkly comp win cup final tkts 21st m...  \n",
       "3              dun say early hor ... already say ...  \n",
       "4               nah n't think usf life around though  "
      ]
     },
     "execution_count": 9,
     "metadata": {},
     "output_type": "execute_result"
    }
   ],
   "source": [
    "data.head()"
   ]
  },
  {
   "cell_type": "code",
   "execution_count": 10,
   "id": "d3f40ac9",
   "metadata": {
    "execution": {
     "iopub.execute_input": "2022-06-12T15:27:20.651204Z",
     "iopub.status.busy": "2022-06-12T15:27:20.650791Z",
     "iopub.status.idle": "2022-06-12T15:27:20.847682Z",
     "shell.execute_reply": "2022-06-12T15:27:20.846558Z"
    },
    "papermill": {
     "duration": 0.208703,
     "end_time": "2022-06-12T15:27:20.850497",
     "exception": false,
     "start_time": "2022-06-12T15:27:20.641794",
     "status": "completed"
    },
    "tags": []
   },
   "outputs": [
    {
     "data": {
      "text/plain": [
       "(5572, 362)"
      ]
     },
     "execution_count": 10,
     "metadata": {},
     "output_type": "execute_result"
    }
   ],
   "source": [
    "from sklearn.feature_extraction.text import CountVectorizer\n",
    "\n",
    "# parameters max_df : to reduce words which occur frequently , here more than 70 percent \n",
    "# parameters min_df : to reduce rare words, spelling mistake etc\n",
    "# ngrams is taken as 2 : taking combination of words\n",
    "vectorizer = CountVectorizer(min_df = 25, max_df= 0.7, ngram_range= (1,2))\n",
    "features = vectorizer.fit_transform(data['Message_processed']).todense()\n",
    "features.shape\n",
    "#print(features)\n",
    "#pd.DataFrame(features, columns = vectorizer.get_feature_names_out())\n"
   ]
  },
  {
   "cell_type": "code",
   "execution_count": 11,
   "id": "96462d2b",
   "metadata": {
    "execution": {
     "iopub.execute_input": "2022-06-12T15:27:20.868403Z",
     "iopub.status.busy": "2022-06-12T15:27:20.868011Z",
     "iopub.status.idle": "2022-06-12T15:27:20.888205Z",
     "shell.execute_reply": "2022-06-12T15:27:20.887424Z"
    },
    "papermill": {
     "duration": 0.03163,
     "end_time": "2022-06-12T15:27:20.890357",
     "exception": false,
     "start_time": "2022-06-12T15:27:20.858727",
     "status": "completed"
    },
    "tags": []
   },
   "outputs": [
    {
     "name": "stderr",
     "output_type": "stream",
     "text": [
      "/opt/conda/lib/python3.7/site-packages/ipykernel_launcher.py:3: RuntimeWarning: invalid value encountered in true_divide\n",
      "  This is separate from the ipykernel package so we can avoid doing imports until\n"
     ]
    }
   ],
   "source": [
    "# normalise the features\n",
    "\n",
    "features =  features / features.sum(axis =1)\n",
    "features = pd.DataFrame(features)"
   ]
  },
  {
   "cell_type": "code",
   "execution_count": 12,
   "id": "8d403b4c",
   "metadata": {
    "execution": {
     "iopub.execute_input": "2022-06-12T15:27:20.908647Z",
     "iopub.status.busy": "2022-06-12T15:27:20.907766Z",
     "iopub.status.idle": "2022-06-12T15:27:20.951049Z",
     "shell.execute_reply": "2022-06-12T15:27:20.949789Z"
    },
    "papermill": {
     "duration": 0.054854,
     "end_time": "2022-06-12T15:27:20.953425",
     "exception": false,
     "start_time": "2022-06-12T15:27:20.898571",
     "status": "completed"
    },
    "tags": []
   },
   "outputs": [
    {
     "data": {
      "text/html": [
       "<div>\n",
       "<style scoped>\n",
       "    .dataframe tbody tr th:only-of-type {\n",
       "        vertical-align: middle;\n",
       "    }\n",
       "\n",
       "    .dataframe tbody tr th {\n",
       "        vertical-align: top;\n",
       "    }\n",
       "\n",
       "    .dataframe thead th {\n",
       "        text-align: right;\n",
       "    }\n",
       "</style>\n",
       "<table border=\"1\" class=\"dataframe\">\n",
       "  <thead>\n",
       "    <tr style=\"text-align: right;\">\n",
       "      <th></th>\n",
       "      <th>0</th>\n",
       "      <th>1</th>\n",
       "      <th>2</th>\n",
       "      <th>3</th>\n",
       "      <th>4</th>\n",
       "      <th>5</th>\n",
       "      <th>6</th>\n",
       "      <th>7</th>\n",
       "      <th>8</th>\n",
       "      <th>9</th>\n",
       "      <th>...</th>\n",
       "      <th>352</th>\n",
       "      <th>353</th>\n",
       "      <th>354</th>\n",
       "      <th>355</th>\n",
       "      <th>356</th>\n",
       "      <th>357</th>\n",
       "      <th>358</th>\n",
       "      <th>359</th>\n",
       "      <th>360</th>\n",
       "      <th>361</th>\n",
       "    </tr>\n",
       "  </thead>\n",
       "  <tbody>\n",
       "    <tr>\n",
       "      <th>0</th>\n",
       "      <td>0.0</td>\n",
       "      <td>0.0</td>\n",
       "      <td>0.0</td>\n",
       "      <td>0.0</td>\n",
       "      <td>0.0</td>\n",
       "      <td>0.0</td>\n",
       "      <td>0.0</td>\n",
       "      <td>0.0</td>\n",
       "      <td>0.0</td>\n",
       "      <td>0.000000</td>\n",
       "      <td>...</td>\n",
       "      <td>0.0</td>\n",
       "      <td>0.0</td>\n",
       "      <td>0.0</td>\n",
       "      <td>0.0</td>\n",
       "      <td>0.0</td>\n",
       "      <td>0.0</td>\n",
       "      <td>0.0</td>\n",
       "      <td>0.0</td>\n",
       "      <td>0.0</td>\n",
       "      <td>0.0</td>\n",
       "    </tr>\n",
       "    <tr>\n",
       "      <th>1</th>\n",
       "      <td>0.0</td>\n",
       "      <td>0.0</td>\n",
       "      <td>0.0</td>\n",
       "      <td>0.0</td>\n",
       "      <td>0.0</td>\n",
       "      <td>0.0</td>\n",
       "      <td>0.0</td>\n",
       "      <td>0.0</td>\n",
       "      <td>0.0</td>\n",
       "      <td>0.000000</td>\n",
       "      <td>...</td>\n",
       "      <td>0.0</td>\n",
       "      <td>0.0</td>\n",
       "      <td>0.0</td>\n",
       "      <td>0.0</td>\n",
       "      <td>0.0</td>\n",
       "      <td>0.0</td>\n",
       "      <td>0.0</td>\n",
       "      <td>0.0</td>\n",
       "      <td>0.0</td>\n",
       "      <td>0.0</td>\n",
       "    </tr>\n",
       "    <tr>\n",
       "      <th>2</th>\n",
       "      <td>0.0</td>\n",
       "      <td>0.0</td>\n",
       "      <td>0.0</td>\n",
       "      <td>0.0</td>\n",
       "      <td>0.0</td>\n",
       "      <td>0.0</td>\n",
       "      <td>0.0</td>\n",
       "      <td>0.0</td>\n",
       "      <td>0.0</td>\n",
       "      <td>0.000000</td>\n",
       "      <td>...</td>\n",
       "      <td>0.0</td>\n",
       "      <td>0.0</td>\n",
       "      <td>0.0</td>\n",
       "      <td>0.0</td>\n",
       "      <td>0.0</td>\n",
       "      <td>0.0</td>\n",
       "      <td>0.0</td>\n",
       "      <td>0.0</td>\n",
       "      <td>0.0</td>\n",
       "      <td>0.0</td>\n",
       "    </tr>\n",
       "    <tr>\n",
       "      <th>3</th>\n",
       "      <td>0.0</td>\n",
       "      <td>0.0</td>\n",
       "      <td>0.0</td>\n",
       "      <td>0.0</td>\n",
       "      <td>0.0</td>\n",
       "      <td>0.0</td>\n",
       "      <td>0.0</td>\n",
       "      <td>0.0</td>\n",
       "      <td>0.0</td>\n",
       "      <td>0.000000</td>\n",
       "      <td>...</td>\n",
       "      <td>0.0</td>\n",
       "      <td>0.0</td>\n",
       "      <td>0.0</td>\n",
       "      <td>0.0</td>\n",
       "      <td>0.0</td>\n",
       "      <td>0.0</td>\n",
       "      <td>0.0</td>\n",
       "      <td>0.0</td>\n",
       "      <td>0.0</td>\n",
       "      <td>0.0</td>\n",
       "    </tr>\n",
       "    <tr>\n",
       "      <th>4</th>\n",
       "      <td>0.0</td>\n",
       "      <td>0.0</td>\n",
       "      <td>0.0</td>\n",
       "      <td>0.0</td>\n",
       "      <td>0.0</td>\n",
       "      <td>0.0</td>\n",
       "      <td>0.0</td>\n",
       "      <td>0.0</td>\n",
       "      <td>0.0</td>\n",
       "      <td>0.000000</td>\n",
       "      <td>...</td>\n",
       "      <td>0.0</td>\n",
       "      <td>0.0</td>\n",
       "      <td>0.0</td>\n",
       "      <td>0.0</td>\n",
       "      <td>0.0</td>\n",
       "      <td>0.0</td>\n",
       "      <td>0.0</td>\n",
       "      <td>0.0</td>\n",
       "      <td>0.0</td>\n",
       "      <td>0.0</td>\n",
       "    </tr>\n",
       "    <tr>\n",
       "      <th>...</th>\n",
       "      <td>...</td>\n",
       "      <td>...</td>\n",
       "      <td>...</td>\n",
       "      <td>...</td>\n",
       "      <td>...</td>\n",
       "      <td>...</td>\n",
       "      <td>...</td>\n",
       "      <td>...</td>\n",
       "      <td>...</td>\n",
       "      <td>...</td>\n",
       "      <td>...</td>\n",
       "      <td>...</td>\n",
       "      <td>...</td>\n",
       "      <td>...</td>\n",
       "      <td>...</td>\n",
       "      <td>...</td>\n",
       "      <td>...</td>\n",
       "      <td>...</td>\n",
       "      <td>...</td>\n",
       "      <td>...</td>\n",
       "      <td>...</td>\n",
       "    </tr>\n",
       "    <tr>\n",
       "      <th>5567</th>\n",
       "      <td>0.0</td>\n",
       "      <td>0.0</td>\n",
       "      <td>0.0</td>\n",
       "      <td>0.0</td>\n",
       "      <td>0.0</td>\n",
       "      <td>0.0</td>\n",
       "      <td>0.0</td>\n",
       "      <td>0.0</td>\n",
       "      <td>0.0</td>\n",
       "      <td>0.090909</td>\n",
       "      <td>...</td>\n",
       "      <td>0.0</td>\n",
       "      <td>0.0</td>\n",
       "      <td>0.0</td>\n",
       "      <td>0.0</td>\n",
       "      <td>0.0</td>\n",
       "      <td>0.0</td>\n",
       "      <td>0.0</td>\n",
       "      <td>0.0</td>\n",
       "      <td>0.0</td>\n",
       "      <td>0.0</td>\n",
       "    </tr>\n",
       "    <tr>\n",
       "      <th>5568</th>\n",
       "      <td>0.0</td>\n",
       "      <td>0.0</td>\n",
       "      <td>0.0</td>\n",
       "      <td>0.0</td>\n",
       "      <td>0.0</td>\n",
       "      <td>0.0</td>\n",
       "      <td>0.0</td>\n",
       "      <td>0.0</td>\n",
       "      <td>0.0</td>\n",
       "      <td>0.000000</td>\n",
       "      <td>...</td>\n",
       "      <td>0.0</td>\n",
       "      <td>0.0</td>\n",
       "      <td>0.0</td>\n",
       "      <td>0.0</td>\n",
       "      <td>0.0</td>\n",
       "      <td>0.0</td>\n",
       "      <td>0.0</td>\n",
       "      <td>0.0</td>\n",
       "      <td>0.0</td>\n",
       "      <td>0.0</td>\n",
       "    </tr>\n",
       "    <tr>\n",
       "      <th>5569</th>\n",
       "      <td>NaN</td>\n",
       "      <td>NaN</td>\n",
       "      <td>NaN</td>\n",
       "      <td>NaN</td>\n",
       "      <td>NaN</td>\n",
       "      <td>NaN</td>\n",
       "      <td>NaN</td>\n",
       "      <td>NaN</td>\n",
       "      <td>NaN</td>\n",
       "      <td>NaN</td>\n",
       "      <td>...</td>\n",
       "      <td>NaN</td>\n",
       "      <td>NaN</td>\n",
       "      <td>NaN</td>\n",
       "      <td>NaN</td>\n",
       "      <td>NaN</td>\n",
       "      <td>NaN</td>\n",
       "      <td>NaN</td>\n",
       "      <td>NaN</td>\n",
       "      <td>NaN</td>\n",
       "      <td>NaN</td>\n",
       "    </tr>\n",
       "    <tr>\n",
       "      <th>5570</th>\n",
       "      <td>0.0</td>\n",
       "      <td>0.0</td>\n",
       "      <td>0.0</td>\n",
       "      <td>0.0</td>\n",
       "      <td>0.0</td>\n",
       "      <td>0.0</td>\n",
       "      <td>0.0</td>\n",
       "      <td>0.0</td>\n",
       "      <td>0.0</td>\n",
       "      <td>0.000000</td>\n",
       "      <td>...</td>\n",
       "      <td>0.0</td>\n",
       "      <td>0.0</td>\n",
       "      <td>0.0</td>\n",
       "      <td>0.0</td>\n",
       "      <td>0.0</td>\n",
       "      <td>0.0</td>\n",
       "      <td>0.0</td>\n",
       "      <td>0.0</td>\n",
       "      <td>0.0</td>\n",
       "      <td>0.0</td>\n",
       "    </tr>\n",
       "    <tr>\n",
       "      <th>5571</th>\n",
       "      <td>0.0</td>\n",
       "      <td>0.0</td>\n",
       "      <td>0.0</td>\n",
       "      <td>0.0</td>\n",
       "      <td>0.0</td>\n",
       "      <td>0.0</td>\n",
       "      <td>0.0</td>\n",
       "      <td>0.0</td>\n",
       "      <td>0.0</td>\n",
       "      <td>0.000000</td>\n",
       "      <td>...</td>\n",
       "      <td>0.0</td>\n",
       "      <td>0.0</td>\n",
       "      <td>0.0</td>\n",
       "      <td>0.0</td>\n",
       "      <td>0.0</td>\n",
       "      <td>0.0</td>\n",
       "      <td>0.0</td>\n",
       "      <td>0.0</td>\n",
       "      <td>0.0</td>\n",
       "      <td>0.0</td>\n",
       "    </tr>\n",
       "  </tbody>\n",
       "</table>\n",
       "<p>5572 rows × 362 columns</p>\n",
       "</div>"
      ],
      "text/plain": [
       "      0    1    2    3    4    5    6    7    8         9    ...  352  353  \\\n",
       "0     0.0  0.0  0.0  0.0  0.0  0.0  0.0  0.0  0.0  0.000000  ...  0.0  0.0   \n",
       "1     0.0  0.0  0.0  0.0  0.0  0.0  0.0  0.0  0.0  0.000000  ...  0.0  0.0   \n",
       "2     0.0  0.0  0.0  0.0  0.0  0.0  0.0  0.0  0.0  0.000000  ...  0.0  0.0   \n",
       "3     0.0  0.0  0.0  0.0  0.0  0.0  0.0  0.0  0.0  0.000000  ...  0.0  0.0   \n",
       "4     0.0  0.0  0.0  0.0  0.0  0.0  0.0  0.0  0.0  0.000000  ...  0.0  0.0   \n",
       "...   ...  ...  ...  ...  ...  ...  ...  ...  ...       ...  ...  ...  ...   \n",
       "5567  0.0  0.0  0.0  0.0  0.0  0.0  0.0  0.0  0.0  0.090909  ...  0.0  0.0   \n",
       "5568  0.0  0.0  0.0  0.0  0.0  0.0  0.0  0.0  0.0  0.000000  ...  0.0  0.0   \n",
       "5569  NaN  NaN  NaN  NaN  NaN  NaN  NaN  NaN  NaN       NaN  ...  NaN  NaN   \n",
       "5570  0.0  0.0  0.0  0.0  0.0  0.0  0.0  0.0  0.0  0.000000  ...  0.0  0.0   \n",
       "5571  0.0  0.0  0.0  0.0  0.0  0.0  0.0  0.0  0.0  0.000000  ...  0.0  0.0   \n",
       "\n",
       "      354  355  356  357  358  359  360  361  \n",
       "0     0.0  0.0  0.0  0.0  0.0  0.0  0.0  0.0  \n",
       "1     0.0  0.0  0.0  0.0  0.0  0.0  0.0  0.0  \n",
       "2     0.0  0.0  0.0  0.0  0.0  0.0  0.0  0.0  \n",
       "3     0.0  0.0  0.0  0.0  0.0  0.0  0.0  0.0  \n",
       "4     0.0  0.0  0.0  0.0  0.0  0.0  0.0  0.0  \n",
       "...   ...  ...  ...  ...  ...  ...  ...  ...  \n",
       "5567  0.0  0.0  0.0  0.0  0.0  0.0  0.0  0.0  \n",
       "5568  0.0  0.0  0.0  0.0  0.0  0.0  0.0  0.0  \n",
       "5569  NaN  NaN  NaN  NaN  NaN  NaN  NaN  NaN  \n",
       "5570  0.0  0.0  0.0  0.0  0.0  0.0  0.0  0.0  \n",
       "5571  0.0  0.0  0.0  0.0  0.0  0.0  0.0  0.0  \n",
       "\n",
       "[5572 rows x 362 columns]"
      ]
     },
     "execution_count": 12,
     "metadata": {},
     "output_type": "execute_result"
    }
   ],
   "source": [
    "features"
   ]
  },
  {
   "cell_type": "code",
   "execution_count": 13,
   "id": "06082476",
   "metadata": {
    "execution": {
     "iopub.execute_input": "2022-06-12T15:27:20.971797Z",
     "iopub.status.busy": "2022-06-12T15:27:20.971428Z",
     "iopub.status.idle": "2022-06-12T15:27:20.975633Z",
     "shell.execute_reply": "2022-06-12T15:27:20.974905Z"
    },
    "papermill": {
     "duration": 0.01548,
     "end_time": "2022-06-12T15:27:20.977409",
     "exception": false,
     "start_time": "2022-06-12T15:27:20.961929",
     "status": "completed"
    },
    "tags": []
   },
   "outputs": [],
   "source": [
    "y = data['Conclusion']"
   ]
  },
  {
   "cell_type": "code",
   "execution_count": 14,
   "id": "11949d9c",
   "metadata": {
    "execution": {
     "iopub.execute_input": "2022-06-12T15:27:20.996709Z",
     "iopub.status.busy": "2022-06-12T15:27:20.996064Z",
     "iopub.status.idle": "2022-06-12T15:27:21.002930Z",
     "shell.execute_reply": "2022-06-12T15:27:21.002108Z"
    },
    "papermill": {
     "duration": 0.01926,
     "end_time": "2022-06-12T15:27:21.005029",
     "exception": false,
     "start_time": "2022-06-12T15:27:20.985769",
     "status": "completed"
    },
    "tags": []
   },
   "outputs": [],
   "source": [
    "# checking the nulls\n",
    "# taking only the indexes where there is no null \n",
    "idxs = np.where(~features.isnull()[0])[0]"
   ]
  },
  {
   "cell_type": "code",
   "execution_count": 15,
   "id": "26021b0d",
   "metadata": {
    "execution": {
     "iopub.execute_input": "2022-06-12T15:27:21.023710Z",
     "iopub.status.busy": "2022-06-12T15:27:21.023102Z",
     "iopub.status.idle": "2022-06-12T15:27:21.028562Z",
     "shell.execute_reply": "2022-06-12T15:27:21.027894Z"
    },
    "papermill": {
     "duration": 0.017042,
     "end_time": "2022-06-12T15:27:21.030464",
     "exception": false,
     "start_time": "2022-06-12T15:27:21.013422",
     "status": "completed"
    },
    "tags": []
   },
   "outputs": [
    {
     "data": {
      "text/plain": [
       "array([   0,    1,    2, ..., 5568, 5570, 5571])"
      ]
     },
     "execution_count": 15,
     "metadata": {},
     "output_type": "execute_result"
    }
   ],
   "source": [
    "idxs"
   ]
  },
  {
   "cell_type": "code",
   "execution_count": 16,
   "id": "a371565c",
   "metadata": {
    "execution": {
     "iopub.execute_input": "2022-06-12T15:27:21.049089Z",
     "iopub.status.busy": "2022-06-12T15:27:21.048693Z",
     "iopub.status.idle": "2022-06-12T15:27:21.064139Z",
     "shell.execute_reply": "2022-06-12T15:27:21.063197Z"
    },
    "papermill": {
     "duration": 0.027351,
     "end_time": "2022-06-12T15:27:21.066333",
     "exception": false,
     "start_time": "2022-06-12T15:27:21.038982",
     "status": "completed"
    },
    "tags": []
   },
   "outputs": [
    {
     "data": {
      "text/plain": [
       "((5203, 362), (5203,))"
      ]
     },
     "execution_count": 16,
     "metadata": {},
     "output_type": "execute_result"
    }
   ],
   "source": [
    "features = features.iloc[idxs, :]\n",
    "y= y.iloc[idxs]\n",
    "\n",
    "features.shape, y.shape"
   ]
  },
  {
   "cell_type": "code",
   "execution_count": 17,
   "id": "9b47b37a",
   "metadata": {
    "execution": {
     "iopub.execute_input": "2022-06-12T15:27:21.085407Z",
     "iopub.status.busy": "2022-06-12T15:27:21.084675Z",
     "iopub.status.idle": "2022-06-12T15:27:21.101673Z",
     "shell.execute_reply": "2022-06-12T15:27:21.100843Z"
    },
    "papermill": {
     "duration": 0.028599,
     "end_time": "2022-06-12T15:27:21.103614",
     "exception": false,
     "start_time": "2022-06-12T15:27:21.075015",
     "status": "completed"
    },
    "tags": []
   },
   "outputs": [
    {
     "data": {
      "text/plain": [
       "((3642, 362), (1561, 362))"
      ]
     },
     "execution_count": 17,
     "metadata": {},
     "output_type": "execute_result"
    }
   ],
   "source": [
    "from sklearn.model_selection import train_test_split\n",
    "\n",
    "Xtrain, Xtest , Ytrain , Ytest = train_test_split(features, y , test_size = 0.3 , random_state = 0)\n",
    "\n",
    "Xtrain.shape, Xtest.shape"
   ]
  },
  {
   "cell_type": "code",
   "execution_count": 18,
   "id": "458b04b4",
   "metadata": {
    "execution": {
     "iopub.execute_input": "2022-06-12T15:27:21.123480Z",
     "iopub.status.busy": "2022-06-12T15:27:21.122904Z",
     "iopub.status.idle": "2022-06-12T15:27:22.550423Z",
     "shell.execute_reply": "2022-06-12T15:27:22.549456Z"
    },
    "papermill": {
     "duration": 1.439723,
     "end_time": "2022-06-12T15:27:22.552520",
     "exception": false,
     "start_time": "2022-06-12T15:27:21.112797",
     "status": "completed"
    },
    "tags": []
   },
   "outputs": [
    {
     "data": {
      "text/plain": [
       "RandomForestClassifier()"
      ]
     },
     "execution_count": 18,
     "metadata": {},
     "output_type": "execute_result"
    }
   ],
   "source": [
    "from sklearn.ensemble import RandomForestClassifier\n",
    "\n",
    "model = RandomForestClassifier()\n",
    "model.fit(Xtrain,Ytrain)"
   ]
  },
  {
   "cell_type": "code",
   "execution_count": 19,
   "id": "db02cbbc",
   "metadata": {
    "execution": {
     "iopub.execute_input": "2022-06-12T15:27:22.572165Z",
     "iopub.status.busy": "2022-06-12T15:27:22.571753Z",
     "iopub.status.idle": "2022-06-12T15:27:22.648783Z",
     "shell.execute_reply": "2022-06-12T15:27:22.647757Z"
    },
    "papermill": {
     "duration": 0.089852,
     "end_time": "2022-06-12T15:27:22.651332",
     "exception": false,
     "start_time": "2022-06-12T15:27:22.561480",
     "status": "completed"
    },
    "tags": []
   },
   "outputs": [
    {
     "data": {
      "text/plain": [
       "0.9698910954516335"
      ]
     },
     "execution_count": 19,
     "metadata": {},
     "output_type": "execute_result"
    }
   ],
   "source": [
    "model.score(Xtest,Ytest )"
   ]
  },
  {
   "cell_type": "code",
   "execution_count": 20,
   "id": "9ba90b1f",
   "metadata": {
    "execution": {
     "iopub.execute_input": "2022-06-12T15:27:22.671178Z",
     "iopub.status.busy": "2022-06-12T15:27:22.670779Z",
     "iopub.status.idle": "2022-06-12T15:27:23.175062Z",
     "shell.execute_reply": "2022-06-12T15:27:23.174204Z"
    },
    "papermill": {
     "duration": 0.517034,
     "end_time": "2022-06-12T15:27:23.177559",
     "exception": false,
     "start_time": "2022-06-12T15:27:22.660525",
     "status": "completed"
    },
    "tags": []
   },
   "outputs": [
    {
     "data": {
      "text/plain": [
       "SVC()"
      ]
     },
     "execution_count": 20,
     "metadata": {},
     "output_type": "execute_result"
    }
   ],
   "source": [
    "from sklearn.svm import SVC\n",
    "model = SVC()\n",
    "model.fit(Xtrain,Ytrain)"
   ]
  },
  {
   "cell_type": "code",
   "execution_count": 21,
   "id": "3e4ac0ef",
   "metadata": {
    "execution": {
     "iopub.execute_input": "2022-06-12T15:27:23.197495Z",
     "iopub.status.busy": "2022-06-12T15:27:23.196777Z",
     "iopub.status.idle": "2022-06-12T15:27:23.642677Z",
     "shell.execute_reply": "2022-06-12T15:27:23.641735Z"
    },
    "papermill": {
     "duration": 0.458249,
     "end_time": "2022-06-12T15:27:23.644906",
     "exception": false,
     "start_time": "2022-06-12T15:27:23.186657",
     "status": "completed"
    },
    "tags": []
   },
   "outputs": [
    {
     "data": {
      "text/plain": [
       "0.9762972453555413"
      ]
     },
     "execution_count": 21,
     "metadata": {},
     "output_type": "execute_result"
    }
   ],
   "source": [
    "model.score(Xtest,Ytest )"
   ]
  },
  {
   "cell_type": "code",
   "execution_count": null,
   "id": "3115c984",
   "metadata": {
    "papermill": {
     "duration": 0.008785,
     "end_time": "2022-06-12T15:27:23.662902",
     "exception": false,
     "start_time": "2022-06-12T15:27:23.654117",
     "status": "completed"
    },
    "tags": []
   },
   "outputs": [],
   "source": []
  }
 ],
 "metadata": {
  "kernelspec": {
   "display_name": "Python 3",
   "language": "python",
   "name": "python3"
  },
  "language_info": {
   "codemirror_mode": {
    "name": "ipython",
    "version": 3
   },
   "file_extension": ".py",
   "mimetype": "text/x-python",
   "name": "python",
   "nbconvert_exporter": "python",
   "pygments_lexer": "ipython3",
   "version": "3.7.12"
  },
  "papermill": {
   "default_parameters": {},
   "duration": 20.342008,
   "end_time": "2022-06-12T15:27:24.694135",
   "environment_variables": {},
   "exception": null,
   "input_path": "__notebook__.ipynb",
   "output_path": "__notebook__.ipynb",
   "parameters": {},
   "start_time": "2022-06-12T15:27:04.352127",
   "version": "2.3.4"
  }
 },
 "nbformat": 4,
 "nbformat_minor": 5
}
